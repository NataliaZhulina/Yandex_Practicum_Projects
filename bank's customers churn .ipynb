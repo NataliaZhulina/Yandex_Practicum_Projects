{
 "cells": [
  {
   "cell_type": "markdown",
   "metadata": {},
   "source": [
    "#  Описание проекта\n",
    "__Банки — Анализ оттока клиентов__\n",
    "Необходимо проанализировать клиентов регионального банка «Метанпром» и выделить сегменты клиентов, которые склонны уходить из банка.\n",
    "\n",
    "- Провести исследовательский анализ данных,\n",
    "- Выделить портреты клиентов, которые склонны уходить из банка,\n",
    "- Сформулировать и проверите статистические гипотезы."
   ]
  },
  {
   "cell_type": "markdown",
   "metadata": {},
   "source": [
    "<a id='presentation'></a>\n",
    "# Презентация\n",
    "\n",
    "https://drive.google.com/file/d/10FNCRIT3BGlPj-xcA_O_vxaJVD5GzMlh/view?usp=share_link"
   ]
  },
  {
   "cell_type": "markdown",
   "metadata": {},
   "source": [
    "# Портрет клиента, склонного к уходу из банка\n",
    "__Согласно проведённым исследованиям, чаще уходят из банка:__\n",
    "\n",
    "1. Мужчины в возрасте 30-40 лет\n",
    "\n",
    "2. С зарплатой больше 70 тыс. руб\n",
    "\n",
    "3. Пользующиеся 4-мя продуктами\n",
    "\n",
    "4. Имеющие высокий кредитный скор от 800\n",
    "\n",
    "5. Активный пользователь банка\n",
    "\n",
    "6. С высокой оценкой собственности (выше 6)\n",
    "\n",
    "Одним словом уходят успешные, активные клиенты."
   ]
  },
  {
   "cell_type": "markdown",
   "metadata": {},
   "source": [
    "# Общие выводы\n",
    "Наибольшее влияние на отток клиентов оказывают следующие параметры:\n",
    "\n",
    "- пользование 4-мя продуктами: \n",
    "доля уходящих клиентов увеличивается при увеличении количества продуктов от 1 до 4, но если клиент начинает пользоваться 5-ю продутками, то вероятность что он уйдёт уменьшится. Наибольшая доля оттока у клиентов пользующихся 4-мя продуктами ~63%.\n",
    "\n",
    "- активность: доля ушедших клиентов среди активных пользователей больше примерно на 20%\n",
    "\n",
    "- гендерная принадлежность к мужскому полу: ~65% отточных клиентов мужчины\n",
    "\n",
    "- кредитный рейтинг выше 800: кредитный скоринг остающихся клиентов более равномерно распределён от 0 до 1000, кредитный скоринг уходящих клиентов начинается от 700 и максимально сосредоточен в области 800-930.\n",
    "У уходящих клиентов медианный кредитный скоринг 866, у остающихся 847\n",
    "\n",
    "- оценка собвственности: с увеличением оценки увеличивается отток. Наибольшая доля ушедших клиентов приходится на оценку собственности - 9-54%\n",
    "\n",
    "- имеют медианный баланс выше чем неотточные клиенты: медианный баланс отточных клиентов ~770тыс. руб., остающихся ~472 тыс. руб., \n",
    "\n",
    "- имеют медианный доход выше чем неотточные клиенты: медианный доход отточных клиентов ~124тыс. руб., остающихся ~116 тыс. руб., \n",
    "\n",
    "Параметры, которые меньше  влияют на отток клиентов:\n",
    "\n",
    "- Город. По всем 3 городам примерно одинаковый % оттока клиентов (от 16 до 19%%)\n",
    "\n",
    "- Наличие кредитной карты: доля клиентов с кредитными картами среди ушедших клиентов меньше, чем среди общего количества клиентов на 12 \n",
    "\n",
    "# Рекомендации:\n",
    "\n",
    "1. Провести более детальный анализ влияния пользования продуктами банка на отток клиентов. По логике, чем большим количеством продуктов пользуется клиент, тем он более лоялен к банку. У нас получается наоборот, пока клиент не начнёт использовать максимальное количество продуктов.\n",
    "\n",
    "2. Сформировать выгодные предложения и продукты, ориентированные на портрет отточных клиентов - успешных, активных людей. "
   ]
  },
  {
   "cell_type": "markdown",
   "metadata": {},
   "source": [
    "# Описание датасетов\n",
    "\n",
    "Датасет содержит данные о клиентах банка «Метанпром». Банк располагается в Ярославле и областных городах: Ростов Великий и Рыбинск.\n",
    "\n",
    "Колонки:\n",
    "\n",
    "- `userid` — идентификатор пользователя,\n",
    "- `score` — баллы кредитного скоринга,\n",
    "- `City` — город,\n",
    "- `Gender` — пол,\n",
    "- `Age` — возраст,\n",
    "- `Equity` — приблизительная оценка собственности клиента,\n",
    "- `Balance` — баланс на счёте,\n",
    "- `Products` — количество продуктов, которыми пользуется клиент,\n",
    "- `CreditCard` — есть ли кредитная карта,\n",
    "- `last_activity` — активность клиента 1(активный)/0(неактивный),\n",
    "- `est_salary` — заработная плата клиента,\n",
    "- `Churn` — ушёл или нет."
   ]
  },
  {
   "cell_type": "markdown",
   "metadata": {},
   "source": [
    "# Содержание\n",
    "\n",
    "1. [Открытие данных и общая информация](#start)\n",
    "\n",
    "\n",
    "2. [Предобработка данных](#preprocessing)\n",
    " \n",
    "    2.1 [Приведение заголовков столбцов к \"змеиному\" регистру](#registre_columns)\n",
    "    \n",
    "    2.2 [Изменение типов данных](#type)\n",
    "    \n",
    "    2.3 [Обработка пропущенных значений](#null)\n",
    "    \n",
    "    2.4 [Обработка дубликатов](#duplicates)\n",
    "       \n",
    "    2.5 [Обработка аномальных значений](#anomalies)\n",
    "    \n",
    "    2.6 [Создание столбца с категорией города (цифра соответствует определённому городу)](#banks)\n",
    "    \n",
    "   \n",
    "3. [Анализ данных](#analyse)\n",
    "\n",
    "    3.1 [Определить зависимость баллов кредитного скоринга и вероятности ухода](#score)\n",
    "    \n",
    "    3.2 [Определить зависимость вероятности ухода от города](#city)\n",
    "    \n",
    "    3.3 [Какого пола клиенты чаще уходят](#gender)\n",
    "    \n",
    "    3.4 [Определить зависимость вероятности ухода от возраста](#age)\n",
    "    \n",
    "    3.5 [Определить зависимость вероятности ухода от оценки собственности клиента](#equity)\n",
    "    \n",
    "    3.6 [Определить зависимость вероятности ухода от баланса на счёте](#balance)\n",
    "    \n",
    "    3.7 [Определить зависимость вероятности ухода от количества продуктов, которыми пользуется клиент](#products)\n",
    "    \n",
    "    3.8 [Определить зависимость вероятности ухода от наличия кредитной карты](#credit_card)\n",
    "    \n",
    "    3.9 [Определить зависимость вероятности ухода от активности](#loyalty)\n",
    "    \n",
    "    3.10 [Определить зависимость вероятности ухода от заработной платы](#salary)\n",
    "    \n",
    "    3.11 [Произвести анализ вероятности ухода в зависимости сразу от нескольких критериев](#cross_analysis)\n",
    "    \n",
    "    3.12 [Составить портрет клиента, склонного уходить](#portraits)\n",
    "    \n",
    "    3.13 [Выводы](#conclusions)\n",
    " \n",
    "\n",
    "4. [Проверка 3-х гипотез](#stat_test)\n",
    "\n",
    "    4.1 [Формулирование гипотез](#hypotesis)\n",
    "    \n",
    "    4.2 [Тестирование первой гипотезы](#H1)\n",
    "    \n",
    "    4.3 [Тестирование второй гипотезы](#H2)\n",
    "    \n",
    "    4.4 [Тестирование третьей гипотезы](#H3)\n",
    "    \n",
    "    4.5 [Выводы](#conclusions1)\n",
    "    \n",
    "    \n",
    "5. [Презентация](#presentation)"
   ]
  },
  {
   "cell_type": "markdown",
   "metadata": {},
   "source": [
    "<a id='start'></a>\n",
    "## Открытие данных и оющая информация"
   ]
  },
  {
   "cell_type": "code",
   "execution_count": null,
   "metadata": {},
   "outputs": [],
   "source": [
    "import pandas as pd\n",
    "import numpy as np\n",
    "import matplotlib.pyplot as plt\n",
    "import seaborn as sns\n",
    "from scipy import stats as st\n",
    "import plotly.figure_factory as ff\n",
    "import plotly.express as px\n",
    "from plotly import graph_objects as go\n",
    "from plotly.subplots import make_subplots"
   ]
  },
  {
   "cell_type": "code",
   "execution_count": null,
   "metadata": {
    "scrolled": false
   },
   "outputs": [],
   "source": [
    "path = \"https://drive.google.com/uc?export=download&id=1-U61mhTz_N1ARjy2XSAZ7IlQqGjeqP0F\"\n",
    "df = pd.read_csv(path)\n",
    "df.head(5)"
   ]
  },
  {
   "cell_type": "code",
   "execution_count": null,
   "metadata": {
    "scrolled": true
   },
   "outputs": [],
   "source": [
    "df.info()"
   ]
  },
  {
   "cell_type": "code",
   "execution_count": null,
   "metadata": {
    "scrolled": false
   },
   "outputs": [],
   "source": [
    "df.describe()"
   ]
  },
  {
   "cell_type": "code",
   "execution_count": null,
   "metadata": {
    "scrolled": true
   },
   "outputs": [],
   "source": [
    "df.hist(figsize=(15,20));"
   ]
  },
  {
   "cell_type": "markdown",
   "metadata": {},
   "source": [
    "В датасете 10000 строк и 12 столбцов. Только в столбце balance есть пропуски. Каких-то аномальных данных из \"описания\" пока не видно."
   ]
  },
  {
   "cell_type": "markdown",
   "metadata": {},
   "source": [
    "<a id='preprocessing'></a>\n",
    "## Предобработка данных"
   ]
  },
  {
   "cell_type": "markdown",
   "metadata": {},
   "source": [
    "<a id='registre_columns'></a>\n",
    "### Приведение заголовков столбцов к \"змеиному\" регистру"
   ]
  },
  {
   "cell_type": "code",
   "execution_count": null,
   "metadata": {},
   "outputs": [],
   "source": [
    "df.columns = df.columns.str.lower()\n",
    "df.columns"
   ]
  },
  {
   "cell_type": "markdown",
   "metadata": {},
   "source": [
    "<a id='type'></a>\n",
    "### Изменение типов данных"
   ]
  },
  {
   "cell_type": "markdown",
   "metadata": {},
   "source": [
    "Имеет смысл у столбца score изменить тип данных  с float64 на uint16 (целые числа в диапазоне от 0 по 65535) т.к. это целые значения от 0 до 1000. \n",
    "\n",
    "Также у столбцов age, equity, products, credit_card, last_activity, churn изменить тип с int64  на uint8 (целые числа в диапазоне от 0 по 255) для ускорения расчётов и экономии оперативной памяти."
   ]
  },
  {
   "cell_type": "code",
   "execution_count": null,
   "metadata": {},
   "outputs": [],
   "source": [
    "df[['age','equity', 'products', 'credit_card', 'last_activity', 'churn']] = \\\n",
    "df[['age','equity', 'products', 'credit_card', 'last_activity', 'churn']] .astype('uint8')\n",
    "df['score'] = df['score'].astype('uint16')"
   ]
  },
  {
   "cell_type": "markdown",
   "metadata": {},
   "source": [
    "<a id='null'></a>\n",
    "### Обработка пропущенных значений"
   ]
  },
  {
   "cell_type": "code",
   "execution_count": null,
   "metadata": {
    "scrolled": true
   },
   "outputs": [],
   "source": [
    "#проверим данные на наличие пропусков\n",
    "print(df.isna().sum())"
   ]
  },
  {
   "cell_type": "code",
   "execution_count": null,
   "metadata": {
    "scrolled": true
   },
   "outputs": [],
   "source": [
    "fig = px.histogram(df, x=\"balance\", color=\"churn\", marginal=\"rug\",\n",
    "                   hover_data=df.columns, title='Распределение данных столбца balance')\n",
    "fig.update_layout(xaxis_title='Баланс счёта клиента')\n",
    "fig.show()"
   ]
  },
  {
   "cell_type": "markdown",
   "metadata": {},
   "source": [
    "Распределение данных скошено вправо в сторону высоких значений баланса, поэтому заполнять пропуски средним значением будет ошибкой. Заполним пропуски медианным значением балланса, медиану посчитаем у уходящих и остающихся клиентов отдельно, предполагая, что есть разница в балансе, что подтверждает график выше."
   ]
  },
  {
   "cell_type": "markdown",
   "metadata": {},
   "source": [
    "<a id='dublicates'></a>\n",
    "### Обработка дубликатов"
   ]
  },
  {
   "cell_type": "markdown",
   "metadata": {},
   "source": [
    "Проверим уникальные названия городов, если есть повторяющиеся с разными регистрами, приведём их к одному"
   ]
  },
  {
   "cell_type": "code",
   "execution_count": null,
   "metadata": {
    "scrolled": false
   },
   "outputs": [],
   "source": [
    "df['city'].unique()"
   ]
  },
  {
   "cell_type": "markdown",
   "metadata": {},
   "source": [
    "С городами всё в порядке. Проверим тоже самое с в столбуе gender"
   ]
  },
  {
   "cell_type": "code",
   "execution_count": null,
   "metadata": {
    "scrolled": true
   },
   "outputs": [],
   "source": [
    "df['gender'].unique()"
   ]
  },
  {
   "cell_type": "markdown",
   "metadata": {},
   "source": [
    "Тоже всё в порядке"
   ]
  },
  {
   "cell_type": "code",
   "execution_count": null,
   "metadata": {},
   "outputs": [],
   "source": [
    "#проверим количесво дубликатов\n",
    "df.duplicated().sum()"
   ]
  },
  {
   "cell_type": "code",
   "execution_count": null,
   "metadata": {},
   "outputs": [],
   "source": [
    "# удалим дубликат и убедимся, что удалили его\n",
    "df = df[df.duplicated()!=True]\n",
    "df.duplicated().sum()"
   ]
  },
  {
   "cell_type": "markdown",
   "metadata": {},
   "source": [
    "<a id='anomalies'></a>\n",
    "### Обработка аномальных значений"
   ]
  },
  {
   "cell_type": "code",
   "execution_count": null,
   "metadata": {
    "scrolled": true
   },
   "outputs": [],
   "source": [
    "df.describe()"
   ]
  },
  {
   "cell_type": "markdown",
   "metadata": {},
   "source": [
    "Аномальные значения могут встретиться в столбцах age, balance  и est_salary. Построим по ним диаграммы размаха."
   ]
  },
  {
   "cell_type": "code",
   "execution_count": null,
   "metadata": {
    "scrolled": true
   },
   "outputs": [],
   "source": [
    "plt.title(\"Диаграмма размаха  данных столбца 'age'\")  \n",
    "ax=sns.boxplot(x = df['age'])\n",
    "ax.set(xlabel='Возраст клиентов')  \n",
    "plt.show()"
   ]
  },
  {
   "cell_type": "markdown",
   "metadata": {},
   "source": [
    "Старше 77 лет уже не совсем типичные клиенты банка."
   ]
  },
  {
   "cell_type": "code",
   "execution_count": null,
   "metadata": {
    "scrolled": true
   },
   "outputs": [],
   "source": [
    "plt.title(\"Диаграмма размаха  данных столбца 'balance'\")  \n",
    "ax=sns.boxplot(x = df['balance'])\n",
    "ax.set(xlabel='Баланс счёта') \n",
    "plt.show()"
   ]
  },
  {
   "cell_type": "markdown",
   "metadata": {},
   "source": [
    "Данные сильно смещены, очень много выбросов, которые могут искажать картину. Чтобы немного выровнять имеет смысл удалить пользователей с балансом выше 20 млн."
   ]
  },
  {
   "cell_type": "code",
   "execution_count": null,
   "metadata": {
    "scrolled": false
   },
   "outputs": [],
   "source": [
    "plt.title(\"Диаграмма размаха  данных столбца 'est_salary'\")  \n",
    "ax=sns.boxplot(x = df['est_salary'])\n",
    "ax.set(xlabel='Предполагаемый ежемесячный доход') \n",
    "plt.show()"
   ]
  },
  {
   "cell_type": "markdown",
   "metadata": {},
   "source": [
    " Данные тоже смещены. Все данные \"за усами\" исключить нельзя, т.к. мы лишаемся большого количества данных. Попробуем взять границу в 600 тыс.\n"
   ]
  },
  {
   "cell_type": "markdown",
   "metadata": {},
   "source": [
    "Посчитаем какое количество данных мы удалим, применяя критерии выше."
   ]
  },
  {
   "cell_type": "code",
   "execution_count": null,
   "metadata": {},
   "outputs": [],
   "source": [
    "print(round(len(df[(df['balance'] > 20000000) | (df['est_salary'] > 600000) | (df['age'] > 77)])/len(df['userid'])*100,2), '%')"
   ]
  },
  {
   "cell_type": "markdown",
   "metadata": {},
   "source": [
    " __2.62% это приемлемое количество данных для удаления (<5). Удаляем__\n"
   ]
  },
  {
   "cell_type": "code",
   "execution_count": null,
   "metadata": {
    "scrolled": false
   },
   "outputs": [],
   "source": [
    "index= df[(df['balance'] > 20000000) | (df['est_salary']> 600000) |(df['age'] > 77)].index.to_list()"
   ]
  },
  {
   "cell_type": "code",
   "execution_count": null,
   "metadata": {},
   "outputs": [],
   "source": [
    "df1 = df.drop(index = index)\n",
    "len(df1)"
   ]
  },
  {
   "cell_type": "code",
   "execution_count": null,
   "metadata": {},
   "outputs": [],
   "source": [
    "df =df1.copy()"
   ]
  },
  {
   "cell_type": "markdown",
   "metadata": {},
   "source": [
    "<a id='banks'></a>\n",
    "### Создание дополнительных столбцов с категорией города в котором находится банк  и с гендерной принадлежностью клиента"
   ]
  },
  {
   "cell_type": "code",
   "execution_count": null,
   "metadata": {},
   "outputs": [],
   "source": [
    "df2 = pd.get_dummies (df, columns=['city', 'gender'], drop_first= False)"
   ]
  },
  {
   "cell_type": "code",
   "execution_count": null,
   "metadata": {
    "scrolled": false
   },
   "outputs": [],
   "source": [
    "df2.head()"
   ]
  },
  {
   "cell_type": "code",
   "execution_count": null,
   "metadata": {},
   "outputs": [],
   "source": [
    "df = df2.copy()"
   ]
  },
  {
   "cell_type": "markdown",
   "metadata": {},
   "source": [
    "<a id='analyse'></a>\n",
    "## Анализ данных"
   ]
  },
  {
   "cell_type": "code",
   "execution_count": null,
   "metadata": {},
   "outputs": [],
   "source": [
    "cm = df.corr() \n",
    "fig, ax = plt.subplots(figsize = (14, 14))\n",
    "\n",
    "\n",
    "sns.heatmap(cm, annot = True, square=True, cmap=\"plasma\")\n",
    "\n",
    "plt.title('Матрица корреляций')\n",
    "plt.show()"
   ]
  },
  {
   "cell_type": "markdown",
   "metadata": {},
   "source": [
    "__Согласно матрице наибольшая связь с оттоком клиентов наблюдается у следующих параметров:__\n",
    "\n",
    "- оценка собственности клиента (equity)\n",
    "\n",
    "- баланс счёта (balance)\n",
    "\n",
    "- количество используемых продуктов банка (products)\n"
   ]
  },
  {
   "cell_type": "markdown",
   "metadata": {},
   "source": [
    "<a id='score'></a>\n",
    "### Определить зависимость баллов кредитного скоринга и вероятности ухода"
   ]
  },
  {
   "cell_type": "markdown",
   "metadata": {},
   "source": [
    "Для определения зависимости баллов кредитного скоринга (кредитный рейтинг) и вероятности уходя сделаем следующие действия:\n",
    "\n",
    "- посчитаем коэфициэнт корреляции Пирсона, \n",
    "\n",
    "- построим распределение данных в зависимости от вероятности ухода\n",
    "\n",
    "- сравним медианные или средние значения исследуемого параметра в зависимости от вероятности ухода."
   ]
  },
  {
   "cell_type": "code",
   "execution_count": null,
   "metadata": {
    "scrolled": true
   },
   "outputs": [],
   "source": [
    "df['score'].corr(df['churn']).round(2)"
   ]
  },
  {
   "cell_type": "code",
   "execution_count": null,
   "metadata": {
    "scrolled": false
   },
   "outputs": [],
   "source": [
    "fig = px.histogram(df, x=\"score\", color=\"churn\", marginal=\"rug\",\n",
    "                   hover_data=df.columns, title='Распределение кредитного рейтинга в зависимости от оттока клиентов')\n",
    "fig.update_layout(xaxis_title='Кредитный рейтинг')\n",
    "fig.show()"
   ]
  },
  {
   "cell_type": "code",
   "execution_count": null,
   "metadata": {
    "scrolled": true
   },
   "outputs": [],
   "source": [
    "df.pivot_table(index = 'churn', values = 'score', aggfunc = 'median').reset_index()"
   ]
  },
  {
   "cell_type": "markdown",
   "metadata": {},
   "source": [
    "Кредитный скоринг остающихся клиентов более равномерно распределён от 0 до 1000,  кредитный скоринг уходящих клиентов начинается от 700 и максимально сосредоточен в области 800-930. \n",
    "\n",
    "У уходящих клиентов медианный кредитный скоринг 866, у остающихся 847."
   ]
  },
  {
   "cell_type": "markdown",
   "metadata": {},
   "source": [
    "<a id='city'></a>\n",
    "### Определить зависимость вероятности ухода от города"
   ]
  },
  {
   "cell_type": "code",
   "execution_count": null,
   "metadata": {
    "scrolled": true
   },
   "outputs": [],
   "source": [
    "specs = [[{'type':'domain'}, {'type':'domain'}, {'type': 'domain'}]]\n",
    "colors = ['rgb(33, 75, 99)', 'rgb(79, 129, 102)']\n",
    "fig = make_subplots(rows=1, cols=3, specs=specs)\n",
    "\n",
    "# Define pie charts\n",
    "fig.add_trace(go.Pie(labels=df['churn'], values=df['city_Ярославль'], name='Ярославль',\n",
    "                     marker_colors=colors, scalegroup='one', title='Ярославль'), 1, 1)\n",
    "fig.add_trace(go.Pie(labels=df['churn'], values=df['city_Рыбинск'],name='Рыбинск',\n",
    "                     marker_colors=colors, scalegroup='one', title= 'Рыбинск'), 1, 2)\n",
    "fig.add_trace(go.Pie(labels=df['churn'], values=df['city_Ростов'], name='Ростов',\n",
    "                     marker_colors=colors, scalegroup='one', title= 'Ростов'), 1, 3)\n",
    "\n",
    "fig.update(layout_title_text='Соотношение уходящих и не уходящих клиентов по городам',\n",
    "           layout_showlegend=True)\n",
    "\n",
    "fig = go.Figure(fig)\n",
    "fig.show()"
   ]
  },
  {
   "cell_type": "markdown",
   "metadata": {},
   "source": [
    "Больше всего клиентов уходит в Ярославле ( как в количественном выражении, так и в процентном) 19,2%  - 1094 чел."
   ]
  },
  {
   "cell_type": "markdown",
   "metadata": {},
   "source": [
    "<a id='gender'></a>\n",
    "### Какого пола клиенты чаще уходят"
   ]
  },
  {
   "cell_type": "code",
   "execution_count": null,
   "metadata": {
    "scrolled": false
   },
   "outputs": [],
   "source": [
    "df_gender1 =  df.pivot_table(index = 'gender_Ж', values = 'churn', aggfunc = 'sum').reset_index()\n",
    "df_gender1"
   ]
  },
  {
   "cell_type": "markdown",
   "metadata": {},
   "source": [
    "Отток мужчин в 2 раза больше, чем женщин. "
   ]
  },
  {
   "cell_type": "markdown",
   "metadata": {},
   "source": [
    "Посмотрим сколько мужчин и женщин вообще обслуживается в банке "
   ]
  },
  {
   "cell_type": "code",
   "execution_count": null,
   "metadata": {},
   "outputs": [],
   "source": [
    "df_gender = df.groupby(['gender_Ж'])[['gender_Ж']].count().rename(columns={'gender_Ж': 'count'}).reset_index()\n",
    "df_gender"
   ]
  },
  {
   "cell_type": "code",
   "execution_count": null,
   "metadata": {
    "scrolled": true
   },
   "outputs": [],
   "source": [
    "specs = [[{'type':'domain'}, {'type':'domain'}]]\n",
    "colors = ['rgb(129, 180, 179)', 'rgb(124, 103, 37)']\n",
    "fig = make_subplots(rows=1, cols=2, specs=specs)\n",
    "\n",
    "fig.add_trace(go.Pie(labels=df_gender1['gender_Ж'], values=df_gender1['churn'], name='Ушедшие клиенты',\n",
    "                     marker_colors=colors, title='Ушедшие клиенты. 0- мужчины, 1- женщины', textinfo='label+percent'), 1, 1)\n",
    "fig.add_trace(go.Pie(labels=df_gender['gender_Ж'], values=df_gender['count'],name='0- мужчины, 1- женщины',\n",
    "                     marker_colors=colors,  title= 'Все клиенты. 0- мужчины, 1- женщины', textinfo='label+percent'), 1, 2)\n",
    "\n",
    "fig.update(layout_title_text='Зависимость оттока клиентов от пола',\n",
    "           layout_showlegend=True)\n",
    "\n",
    "fig = go.Figure(fig)\n",
    "fig.show()"
   ]
  },
  {
   "cell_type": "markdown",
   "metadata": {},
   "source": [
    "__В общей выборке клиенты по половому признаку делятся практически пополам. В категории ушедших клиентов мужчин почти в 2 раза больше чем женщинЖ (64,8% мужчин и 35,2% женщин)__"
   ]
  },
  {
   "cell_type": "markdown",
   "metadata": {},
   "source": [
    "<a id='age'></a>\n",
    "### Определить зависимость вероятности ухода от возраста"
   ]
  },
  {
   "cell_type": "markdown",
   "metadata": {},
   "source": [
    "Для определения зависимости баллов кредитного скоринга (кредитный рейтинг) и вероятности уходя сделаем следующие действия:\n",
    "\n",
    "- посчитаем коэфициэнт корреляции Пирсона, \n",
    "\n",
    "- построим распределение данных в зависимости от вероятности ухода\n",
    "\n",
    "- сравним медианные или средние значения исследуемого параметра в зависимости от вероятности ухода."
   ]
  },
  {
   "cell_type": "code",
   "execution_count": null,
   "metadata": {},
   "outputs": [],
   "source": [
    "df['age'].corr(df['churn']).round(2)"
   ]
  },
  {
   "cell_type": "code",
   "execution_count": null,
   "metadata": {},
   "outputs": [],
   "source": [
    "fig = px.histogram(df, x=\"age\", color=\"churn\", marginal=\"rug\",\n",
    "                   hover_data=df.columns, title='Распределение возраста в зависимости от оттока клиентов')\n",
    "fig.update_layout(xaxis_title='Возраст')\n",
    "fig.show()"
   ]
  },
  {
   "cell_type": "markdown",
   "metadata": {},
   "source": [
    "Распределение не симметрично, поэтому для сравнения \"среднего\" возраста ушедших и не ушедших клиентов будем использовать медиану"
   ]
  },
  {
   "cell_type": "code",
   "execution_count": null,
   "metadata": {
    "scrolled": true
   },
   "outputs": [],
   "source": [
    "df.pivot_table(index = 'churn', values = 'age', aggfunc = 'median')"
   ]
  },
  {
   "cell_type": "markdown",
   "metadata": {},
   "source": [
    "__Сильной разницы в возрасте между отточными  и не отточными клиентами не наблюдается. Самый частый возраст оттока с 30 до 40 лет__"
   ]
  },
  {
   "cell_type": "markdown",
   "metadata": {},
   "source": [
    "<a id='equity'></a>\n",
    "### Определить зависимость вероятности ухода от оценки собственности клиента"
   ]
  },
  {
   "cell_type": "code",
   "execution_count": null,
   "metadata": {},
   "outputs": [],
   "source": [
    "df['equity'].corr(df['churn']).round(2)"
   ]
  },
  {
   "cell_type": "code",
   "execution_count": null,
   "metadata": {
    "scrolled": true
   },
   "outputs": [],
   "source": [
    "df_no_churn = df.loc[df['churn']==0].groupby(['equity'])[['churn']].count()\\\n",
    ".rename(columns={'churn': 'count'}).reset_index().sort_values(by='count', ascending= False)\n",
    "df_no_churn"
   ]
  },
  {
   "cell_type": "code",
   "execution_count": null,
   "metadata": {},
   "outputs": [],
   "source": [
    "df_churn = df.loc[df['churn']==1].groupby(['equity'])[['churn']].count()\\\n",
    ".rename(columns={'churn': 'count'}).reset_index().sort_values(by='count', ascending= False)\n",
    "df_churn"
   ]
  },
  {
   "cell_type": "code",
   "execution_count": null,
   "metadata": {
    "scrolled": false
   },
   "outputs": [],
   "source": [
    "specs = [[{'type':'domain'}, {'type':'domain'}]]\n",
    "colors = ['rgb(129, 180, 179)', 'rgb(124, 103, 37)']\n",
    "fig = make_subplots(rows=1, cols=2, specs=specs)\n",
    "\n",
    "fig.add_trace(go.Pie(labels=df_churn['equity'], values=df_churn['count'], name='Ушедшие клиенты',\n",
    "                     marker_colors=colors, title='Ушедшие клиенты', textinfo='label+percent'), 1, 1)\n",
    "fig.add_trace(go.Pie(labels=df_no_churn['equity'], values=df_no_churn['count'],name='Оставшиеся клиенты',\n",
    "                     marker_colors=colors,  title= 'Оставшиеся', textinfo='label+percent'), 1, 2)\n",
    "\n",
    "fig.update(layout_title_text='Распледеление клиентов в зависимости от оценки собственности среди ушедших и оставшихся',\n",
    "           layout_showlegend=True)\n",
    "\n",
    "fig = go.Figure(fig)\n",
    "fig.show()"
   ]
  },
  {
   "cell_type": "markdown",
   "metadata": {},
   "source": [
    "Среди ушедших клиентов наибольшее количество 31% имели оценку собственности 5,на втором месте 26% -4. Среди оставшихся немного иное распределение: наибольшее количество имеют оценку 0 - 30%, на втором месте также оценка 4 - 17,2%  "
   ]
  },
  {
   "cell_type": "markdown",
   "metadata": {},
   "source": [
    "Посмотрим соотношение оставшихся и ушедших клиентов в зависимости от оценки собственности."
   ]
  },
  {
   "cell_type": "code",
   "execution_count": null,
   "metadata": {},
   "outputs": [],
   "source": [
    "df_group=df.groupby(['equity', 'churn'])[['userid']].count().rename(columns={'userid': 'count'}).reset_index()\n",
    "#добавим проценты\n",
    "df_group['ratio'] = (df_group['count']/df_group.groupby('equity')['count'].transform('sum')).round(2)*100\n",
    "df_group"
   ]
  },
  {
   "cell_type": "code",
   "execution_count": null,
   "metadata": {
    "scrolled": true
   },
   "outputs": [],
   "source": [
    "fig = px.bar(df_group, x='equity', y='ratio', color = 'churn',\\\n",
    "             title='Зависимость оттока клиентов от оценки собственности клиента')\n",
    "fig.update_layout(xaxis_title='Оценка собственности',\n",
    "                   yaxis_title='Доля клиентов, %')\n",
    "fig.show()"
   ]
  },
  {
   "cell_type": "markdown",
   "metadata": {},
   "source": [
    "Наибольшая доля ушедших клиенто приходится на оценку собственности - 9. Заметна тенденция увеличения доли ушедших клиентов у увеличением оценки собственности (оценка 8 выбивается из немного из этой тенденции)"
   ]
  },
  {
   "cell_type": "markdown",
   "metadata": {},
   "source": [
    "__На мой взгляд зависимоть от оценки собственности есть. С увеличением оценки увеличивается отток.Об этом говорит последний график, коэфициент Пирсона тоже.  Конечно клиентов с оценкой собственности больше 7 не так много, чтобы делать однозначный вывод, но по крайней мере до 7  - тенденция явно просматривается.__"
   ]
  },
  {
   "cell_type": "markdown",
   "metadata": {},
   "source": [
    "<a id='balance'></a>\n",
    "### Определить зависимость вероятности ухода от баланса на счёте"
   ]
  },
  {
   "cell_type": "code",
   "execution_count": null,
   "metadata": {},
   "outputs": [],
   "source": [
    "df['balance'].corr(df['churn']).round(2)"
   ]
  },
  {
   "cell_type": "code",
   "execution_count": null,
   "metadata": {},
   "outputs": [],
   "source": [
    "fig = px.histogram(df, x=\"balance\", color=\"churn\", marginal=\"rug\",\n",
    "                   hover_data=df.columns, title='Распределение баланса счёта в зависимости от оттока клиентов')\n",
    "fig.update_layout(xaxis_title='Баланс, руб')\n",
    "fig.show()"
   ]
  },
  {
   "cell_type": "code",
   "execution_count": null,
   "metadata": {
    "scrolled": false
   },
   "outputs": [],
   "source": [
    "df_balance = df.pivot_table(index = 'churn', values = 'balance', aggfunc = 'median').reset_index()\n",
    "df_balance"
   ]
  },
  {
   "cell_type": "code",
   "execution_count": null,
   "metadata": {
    "scrolled": true
   },
   "outputs": [],
   "source": [
    "fig = px.bar(df_balance, x='churn', y='balance', \\\n",
    "             title='Зависимость оттока от  баланса')\n",
    "fig.update_layout(xaxis_title='1: клиент ушёл, 0: клиент остаётся',\n",
    "                   yaxis_title='Баланс, руб')\n",
    "fig.show()"
   ]
  },
  {
   "cell_type": "markdown",
   "metadata": {},
   "source": [
    "__В среднем у уходящих клиентов баланс счета выше, чем у остающихся. Наибольшее количество ушедших клиентов имеет баланс от 70 до 900 тыс__"
   ]
  },
  {
   "cell_type": "markdown",
   "metadata": {},
   "source": [
    "<a id='products'></a>\n",
    "### Определить зависимость вероятности ухода от количества продуктов, которыми пользуется клиент"
   ]
  },
  {
   "cell_type": "code",
   "execution_count": null,
   "metadata": {},
   "outputs": [],
   "source": [
    "df['products'].corr(df['churn']).round(2)"
   ]
  },
  {
   "cell_type": "code",
   "execution_count": null,
   "metadata": {
    "scrolled": true
   },
   "outputs": [],
   "source": [
    "df_products=df.groupby(['products', 'churn'])[['userid']].count().rename(columns={'userid': 'count'}).reset_index()\n",
    "#добавим проценты\n",
    "df_products['ratio'] = (df_products['count']/df_products.groupby('products')['count'].transform('sum')).round(2)*100\n",
    "df_products"
   ]
  },
  {
   "cell_type": "code",
   "execution_count": null,
   "metadata": {
    "scrolled": true
   },
   "outputs": [],
   "source": [
    "fig = px.bar(df_products, x='products', y='ratio', color = 'churn',\\\n",
    "             title='Зависимость оттока клиентов от количества используемых продуктов')\n",
    "fig.update_layout(xaxis_title='Количество продуктов',\n",
    "                   yaxis_title='Доля клиентов, %')\n",
    "fig.show()"
   ]
  },
  {
   "cell_type": "markdown",
   "metadata": {},
   "source": [
    "Доля уходящих клиентов увеличивается при увеличении количества продуктов от 1 до 4, но если клиент начинает пользоваться 5-ю продутками, то вероятность что он лстанется уведичивается. Наибольшая доля оттока у клиентов пользующихся 4-мя продуктами."
   ]
  },
  {
   "cell_type": "code",
   "execution_count": null,
   "metadata": {},
   "outputs": [],
   "source": [
    "df_products.loc[df_products['churn']==1]"
   ]
  },
  {
   "cell_type": "code",
   "execution_count": null,
   "metadata": {},
   "outputs": [],
   "source": [
    "fig = px.bar(df_products.loc[df_products['churn']==1], x='products', y='count', \\\n",
    "             title='Зависимость оттока клиентов от количества используемых продуктов')\n",
    "fig.update_layout(xaxis_title='Количество продуктов',\n",
    "                   yaxis_title='Количество ушедших клиентов')\n",
    "fig.show()"
   ]
  },
  {
   "cell_type": "markdown",
   "metadata": {},
   "source": [
    "Если смотреть по абсолютному количеству, максимальный отток наблюдается у пользователей с 2-мя продуктами.Но этих пользователей в принципе больше. Думаю, что всё же корректнее смотреть на долю, а не на абсолютное значение."
   ]
  },
  {
   "cell_type": "markdown",
   "metadata": {},
   "source": [
    "<a id='credit_card'></a>\n",
    "### Определить зависимость вероятности ухода от наличия кредитной карты"
   ]
  },
  {
   "cell_type": "code",
   "execution_count": null,
   "metadata": {
    "scrolled": false
   },
   "outputs": [],
   "source": [
    "df.pivot_table(index = 'credit_card', values = 'churn', aggfunc = 'sum').reset_index()"
   ]
  },
  {
   "cell_type": "markdown",
   "metadata": {},
   "source": [
    "Среди ушедших клиентов чуть больше половины имели кредитные карты."
   ]
  },
  {
   "cell_type": "code",
   "execution_count": null,
   "metadata": {
    "scrolled": true
   },
   "outputs": [],
   "source": [
    "df_credit = df.groupby(['credit_card'])[['credit_card']].count().rename(columns={'credit_card': 'count'}).reset_index()\n",
    "df_credit"
   ]
  },
  {
   "cell_type": "markdown",
   "metadata": {},
   "source": []
  },
  {
   "cell_type": "code",
   "execution_count": null,
   "metadata": {
    "scrolled": true
   },
   "outputs": [],
   "source": [
    "specs = [[{'type':'domain'}, {'type':'domain'}]]\n",
    "colors = ['rgb(129, 180, 179)', 'rgb(124, 103, 37)']\n",
    "fig = make_subplots(rows=1, cols=2, specs=specs)\n",
    "\n",
    "fig.add_trace(go.Pie(labels=df['credit_card'], values=df['churn'], name='Ушедшие клиенты',\n",
    "                     marker_colors=colors, title='Ушедшие клиенты', textinfo='label+percent'), 1, 1)\n",
    "fig.add_trace(go.Pie(labels=df_credit['credit_card'], values=df_credit['count'],name='Все клиенты',\n",
    "                     marker_colors=colors,  title= 'Все клиенты', textinfo='label+percent'), 1, 2)\n",
    "\n",
    "fig.update(layout_title_text='Зависимость оттока клиентов от наличия кредитной карты. 1- есть карта, 0- нет карты',\n",
    "           layout_showlegend=True)\n",
    "\n",
    "fig = go.Figure(fig)\n",
    "fig.show()"
   ]
  },
  {
   "cell_type": "markdown",
   "metadata": {},
   "source": [
    "Доля клиентов с кредитными картами среди ушедших клиентов меньше, чем среди общего количества клиентов на 12 %.\n",
    "\n",
    "Склоняюсь, что зависимость есть, хоть и небольшая. Отрицательный коэффициент корреляции тоже говорит об обратной связи. Логически если ты платишь кредит, то ты просто не можешь уйти из банка, пока не погасишь его."
   ]
  },
  {
   "cell_type": "markdown",
   "metadata": {},
   "source": [
    "<a id='loyalty'></a>\n",
    "### Определить зависимость вероятности ухода от активности"
   ]
  },
  {
   "cell_type": "code",
   "execution_count": null,
   "metadata": {},
   "outputs": [],
   "source": [
    "df['last_activity'].corr(df['churn']).round(2)"
   ]
  },
  {
   "cell_type": "code",
   "execution_count": null,
   "metadata": {
    "scrolled": true
   },
   "outputs": [],
   "source": [
    "df_activity = df.pivot_table(index = 'last_activity', values = 'churn', aggfunc = 'sum').reset_index()\n",
    "df_activity"
   ]
  },
  {
   "cell_type": "code",
   "execution_count": null,
   "metadata": {
    "scrolled": true
   },
   "outputs": [],
   "source": [
    "fig = px.bar(df_activity, x='last_activity', y='churn',\\\n",
    "             title='Зависимость оттока клиентов от активности')\n",
    "fig.update_layout(xaxis_title='1: активный клиент, 0: неактивный',\n",
    "                   yaxis_title='Количество ушедших клиентов, руб')\n",
    "fig\n",
    "fig.show()"
   ]
  },
  {
   "cell_type": "markdown",
   "metadata": {},
   "source": [
    "Как это ни странно, среди ушедших пользователей активных было больше чем не автивных больше чем в 2 раза."
   ]
  },
  {
   "cell_type": "markdown",
   "metadata": {},
   "source": [
    "Посмотрим доли доли ушедших пользователей среди общего количества с разбивкой по активности. "
   ]
  },
  {
   "cell_type": "code",
   "execution_count": null,
   "metadata": {
    "scrolled": true
   },
   "outputs": [],
   "source": [
    "df_activity1=df.groupby(['last_activity', 'churn'])[['userid']].count().rename(columns={'userid': 'count'}).reset_index()\n",
    "#добавим проценты\n",
    "df_activity1['ratio'] = (df_activity1['count']/df_activity1.groupby('last_activity')['count'].transform('sum')).round(2)*100\n",
    "df_activity1"
   ]
  },
  {
   "cell_type": "code",
   "execution_count": null,
   "metadata": {
    "scrolled": true
   },
   "outputs": [],
   "source": [
    "fig = px.bar(df_activity1, x='last_activity', y='ratio', color = 'churn',\\\n",
    "             title='Зависимость оттока клиентов от активности пользователей. churn: 0 - оставшиеся, 1- ушедшие клиенты')\n",
    "fig.update_layout(xaxis_title='Активность клиента: 1-активный, 0 - неактивный',\n",
    "                   yaxis_title='Доля клиентов, %')\n",
    "fig.show()"
   ]
  },
  {
   "cell_type": "markdown",
   "metadata": {},
   "source": [
    "Доля ушедших клиентов среди активных пользователей больше примерно на 20%"
   ]
  },
  {
   "cell_type": "markdown",
   "metadata": {},
   "source": [
    "<a id='salary'></a>\n",
    "### Определить зависимость вероятности ухода от заработной платы"
   ]
  },
  {
   "cell_type": "code",
   "execution_count": null,
   "metadata": {
    "scrolled": true
   },
   "outputs": [],
   "source": [
    "fig = px.histogram(df, x=\"est_salary\", color=\"churn\", marginal=\"rug\",\n",
    "                   hover_data=df.columns, title='Распределение предполагаемого дохода в зависимости от оттока клиентов')\n",
    "fig.update_layout(xaxis_title='Предполагаемый доход, руб')\n",
    "fig.show()"
   ]
  },
  {
   "cell_type": "code",
   "execution_count": null,
   "metadata": {
    "scrolled": false
   },
   "outputs": [],
   "source": [
    "df_salary = df.pivot_table(index = 'churn', values = 'est_salary', aggfunc = 'median').reset_index()\n",
    "df_salary"
   ]
  },
  {
   "cell_type": "code",
   "execution_count": null,
   "metadata": {},
   "outputs": [],
   "source": [
    "fig = px.bar(df_salary, x='churn', y='est_salary',\\\n",
    "             title='Зависимость оттока клиентов от дохода')\n",
    "fig.update_layout(xaxis_title='Отток: 1-ушёл, 0 - остался',\n",
    "                   yaxis_title='Медианный доход, руб')\n",
    "fig\n",
    "fig.show()"
   ]
  },
  {
   "cell_type": "markdown",
   "metadata": {},
   "source": [
    "Распределение не симметрично, для сравнения посчитали медианы. Есть небольшое различие. У ушедших клиентов медианный доход немного больше, чем у оставшихся."
   ]
  },
  {
   "cell_type": "markdown",
   "metadata": {},
   "source": [
    "<a id='cross_analysis'></a>\n",
    "### Произвести анализ вероятности ухода в зависимости сразу от нескольких критериев"
   ]
  },
  {
   "cell_type": "markdown",
   "metadata": {},
   "source": [
    " Выделим несколько сегментов, в которых как мы думаем высока доля ушедших клиентов и посмотрим какой процентоттока получится при сочетании этих сегментов.\n",
    "Посчитаем 3 варианта:\n",
    "\n",
    "1. Мужчины  с оценкой собственности 7 и выше и балансом больше 400 тыс\n",
    "\n",
    "2. Возраст 30-40, пользуются 4-мя продуктами, кредитный рейтинг больше 800\n",
    "\n",
    "3. Зарплата выше 70тыс,  активные пользователи, пользуются 4-мя продуктами\n"
   ]
  },
  {
   "cell_type": "code",
   "execution_count": null,
   "metadata": {},
   "outputs": [],
   "source": [
    "df_seg1 = df.loc[(df['gender_М']== 1)  & (df['balance'] > 400000) & (df['equity'] >= 7)]\n",
    "df_seg1 = df_seg1.groupby(['churn'])[['userid']].count().rename(columns={'userid': 'count'}).reset_index()\n",
    "df_seg1['ratio'] = (df_seg1['count']/(df_seg1['count'].sum())).round(2)*100\n",
    "df_seg1"
   ]
  },
  {
   "cell_type": "code",
   "execution_count": null,
   "metadata": {
    "scrolled": true
   },
   "outputs": [],
   "source": [
    "df_seg2 = df.loc[(df['age'] > 30 ) & (df['age'] < 40) & (df['score'] > 800) &(df['products'] ==4)]\n",
    "df_seg2 = df_seg2.groupby(['churn'])[['userid']].count().rename(columns={'userid': 'count'}).reset_index()\n",
    "df_seg2['ratio'] = (df_seg2['count']/(df_seg2['count'].sum())).round(2)*100\n",
    "df_seg2"
   ]
  },
  {
   "cell_type": "code",
   "execution_count": null,
   "metadata": {
    "scrolled": true
   },
   "outputs": [],
   "source": [
    "df_seg3 = df.loc[(df['est_salary'] > 70000 ) & (df['last_activity'] == 1) &(df['products'] ==4)]\n",
    "df_seg3 = df_seg3.groupby(['churn'])[['userid']].count().rename(columns={'userid': 'count'}).reset_index()\n",
    "df_seg3['ratio'] = (df_seg3['count']/(df_seg3['count'].sum())).round(2)*100\n",
    "df_seg3"
   ]
  },
  {
   "cell_type": "code",
   "execution_count": null,
   "metadata": {
    "scrolled": false
   },
   "outputs": [],
   "source": [
    "specs = [[{'type':'domain'}, {'type':'domain'}, {'type': 'domain'}]]\n",
    "colors = ['rgb(33, 75, 99)', 'rgb(79, 129, 102)']\n",
    "fig = make_subplots(rows=1, cols=3, specs=specs)\n",
    "\n",
    "# Define pie charts\n",
    "fig.add_trace(go.Pie(labels=df_seg1['churn'], values=df_seg1['count'], name='Первый вариант сегментации',\n",
    "                     marker_colors=colors, title='Вариант 1'), 1, 1)\n",
    "fig.add_trace(go.Pie(labels=df_seg2['churn'], values=df_seg2['count'], name='Второй вариант сегментации',\n",
    "                     marker_colors=colors, title='Вариант 2'), 1, 2)\n",
    "fig.add_trace(go.Pie(labels=df_seg3['churn'], values=df_seg3['count'], name='Третий вариант сегментации',\n",
    "                     marker_colors=colors, title='Вариант 3'), 1, 3)\n",
    "\n",
    "fig.update(layout_title_text='Анализ вероятности оттока в зависимости от разных критериев (сегментаций)',\n",
    "           layout_showlegend=True)\n",
    "\n",
    "fig = go.Figure(fig)\n",
    "fig.show()"
   ]
  },
  {
   "cell_type": "markdown",
   "metadata": {},
   "source": [
    " Наибольший процент оттока в третьем варианте сегментации: зарплата выше 70 тыс, пользующихся 4-мя продуктами и имеющие оценку собственности выше 7.\n",
    " \n",
    " Я пробовала разные сочетания параметров. В итоге наибольшее влияние оказывает то, что клиент пользуется 4-мя продуктами банка."
   ]
  },
  {
   "cell_type": "markdown",
   "metadata": {},
   "source": [
    "<a id='portraits'></a>\n",
    "### Составить портрет клиента, склонного уходить"
   ]
  },
  {
   "cell_type": "markdown",
   "metadata": {},
   "source": [
    "__Согласно проведённым исследованиям, чаще уходят из банка:__\n",
    "\n",
    "1. Мужчины в возрасте 30-40 лет\n",
    "\n",
    "2. С зарплатой больше 70 тыс. руб\n",
    "\n",
    "3. Пользующиеся 4-мя продуктами\n",
    "\n",
    "4. Имеющие высокий кредитный скор от 800\n",
    "\n",
    "5. Активный пользователь банка\n",
    "\n",
    "6. С высокой оценкой собственности (выше 6)\n",
    "\n",
    "Одним словом уходят успешные, активные клиенты."
   ]
  },
  {
   "cell_type": "markdown",
   "metadata": {},
   "source": [
    "<a id='conclusions'></a>\n",
    "### Выводы"
   ]
  },
  {
   "cell_type": "markdown",
   "metadata": {},
   "source": [
    "Наибольшее влияние на отток клиентов оказывают следующие параметры:\n",
    "\n",
    "- пользование 4-мя продуктами: \n",
    "доля уходящих клиентов увеличивается при увеличении количества продуктов от 1 до 4, но если клиент начинает пользоваться 5-ю продутками, то вероятность что он уйдёт уменьшится. Наибольшая доля оттока у клиентов пользующихся 4-мя продуктами ~63%.\n",
    "\n",
    "- активность: доля ушедших клиентов среди активных пользователей больше примерно на 20%\n",
    "\n",
    "- гендерная принадлежность к мужскому полу: ~65% отточных клиентов мужчины\n",
    "\n",
    "- кредитный рейтинг выше 800: кредитный скоринг остающихся клиентов более равномерно распределён от 0 до 1000, кредитный скоринг уходящих клиентов начинается от 700 и максимально сосредоточен в области 800-930.\n",
    "У уходящих клиентов медианный кредитный скоринг 866, у остающихся 847\n",
    "\n",
    "- оценка собвственности: с увеличением оценки увеличивается отток. Наибольшая доля ушедших клиентов приходится на оценку собственности - 9-54%\n",
    "\n",
    "- имеют медианный баланс выше чем неотточные клиенты: медианный баланс отточных клиентов ~770тыс. руб., остающихся ~472 тыс. руб., \n",
    "\n",
    "- имеют медианный доход выше чем неотточные клиенты: медианный доход отточных клиентов ~124тыс. руб., остающихся ~116 тыс. руб., \n",
    "\n",
    "Параметры, которые меньше  влияют на отток клиентов:\n",
    "\n",
    "- Город. По всем 3 городам примерно одинаковый % оттока клиентов (от 16 до 19%%)\n",
    "\n",
    "- Наличие кредитной карты: доля клиентов с кредитными картами среди ушедших клиентов меньше, чем среди общего количества клиентов на 12 \n",
    "\n",
    "__Рекомендации:__\n",
    "\n",
    "1. Провести более детальный анализ влияния пользования продуктами банка на отток клиентов. По логике, чем большим количеством продуктов пользуется клиент, тем он более лоялен к банку. У нас получается наоборот.\n",
    "\n",
    "2. Сформировать выгодные предложения и продукты, ориентированные на портрет отточных клиентов - успешных, активных людей. "
   ]
  },
  {
   "cell_type": "markdown",
   "metadata": {},
   "source": [
    " <a id='stat_test'></a>\n",
    "## Проверка 3-х гипотез"
   ]
  },
  {
   "cell_type": "markdown",
   "metadata": {},
   "source": [
    "<a id='hypotesis'></a>\n",
    "### Формулирование гипотез"
   ]
  },
  {
   "cell_type": "markdown",
   "metadata": {},
   "source": [
    "__Гипотеза 1. Средние доходы пользователей, которые ушли и остались, различаются__"
   ]
  },
  {
   "cell_type": "markdown",
   "metadata": {},
   "source": [
    "__Гипотеза 2. Активность пользователей, которые ушли  и остались, различаются__"
   ]
  },
  {
   "cell_type": "markdown",
   "metadata": {},
   "source": [
    "__Гипотеза 3. Количество продуктов, которыми пользовались ушедшие и оставшиеся клиенты различаются__"
   ]
  },
  {
   "cell_type": "markdown",
   "metadata": {},
   "source": [
    "<a id='H1'></a>\n",
    "### Тестирование первой гипотезы\n"
   ]
  },
  {
   "cell_type": "markdown",
   "metadata": {},
   "source": [
    "H_0: Доход клиентов, которые ушли = доход клиентов, которые остались\n",
    "\n",
    "H_1: Доход клиентов, которые ушли ≠ доход клиентов, которые остались\n",
    "\n",
    "alpha = 0.05"
   ]
  },
  {
   "cell_type": "code",
   "execution_count": null,
   "metadata": {
    "scrolled": true
   },
   "outputs": [],
   "source": [
    "fig = px.histogram(df, x=\"est_salary\", color=\"churn\", marginal=\"rug\",\n",
    "                   hover_data=df.columns, title='Распределение предполагаемого дохода в зависимости от оттока клиентов')\n",
    "fig.update_layout(xaxis_title='Предполагаемый доход, руб')\n",
    "fig.show()"
   ]
  },
  {
   "cell_type": "markdown",
   "metadata": {},
   "source": [
    "Чтобы мы могли применять для расчётов t-критерий Стьюдента необходимо, чтобы наши данные были распределены __нормально__, чтобы __выборки были не зависимы друг от друга__ и __дисперсии рассматриваемых генеральных совокупностей были__.\n",
    "\n",
    "Наши данные соответствуют всем условиям, кроме последнего. В равенстве дисперсии мы не можем быть уверены, и поскольку и по количеству данных выборки сильно отличаются, в расчёте мы укажем параметр equal_var = False  "
   ]
  },
  {
   "cell_type": "code",
   "execution_count": null,
   "metadata": {},
   "outputs": [],
   "source": [
    "churn_1 =  df[df['churn'] == 1]['est_salary'] \n",
    "churn_0 = df[df['churn'] == 0]['est_salary'] \n",
    "results = st.ttest_ind(churn_1, churn_0, equal_var = False) # results = вызов метода для проверки гипотезы\n",
    "\n",
    "alpha = 0.05 \n",
    "\n",
    "print(results.pvalue) \n",
    "if results.pvalue < alpha:\n",
    "    print('Отвергаем нулевую гипотезу')\n",
    "else:\n",
    "    print('Не получилось отвергнуть нулевую гипотезу')"
   ]
  },
  {
   "cell_type": "markdown",
   "metadata": {},
   "source": [
    "__Средние доходы оставшихся и ушедших клиентов не равны__"
   ]
  },
  {
   "cell_type": "markdown",
   "metadata": {},
   "source": [
    "<a id='H2'></a>\n",
    "### Тестирование второй гипотезы"
   ]
  },
  {
   "cell_type": "markdown",
   "metadata": {},
   "source": [
    "H_0: Активность клиентов, которые ушли = активности клиентов, которые остались\n",
    "\n",
    "H_1: Активность клиентов, которые ушли ≠ активности клиентов, которые остались\n",
    "\n",
    "    alpha = 0.05"
   ]
  },
  {
   "cell_type": "code",
   "execution_count": null,
   "metadata": {
    "scrolled": true
   },
   "outputs": [],
   "source": [
    "fig = px.histogram(df, x=\"last_activity\", color=\"churn\", marginal=\"rug\",\n",
    "                   hover_data=df.columns, title='Активности в зависимости от оттока клиентов')\n",
    "fig.update_layout(xaxis_title='Активность: 0- не активный, 1- активный', yaxis_title = \"Количество пользователей\")\n",
    "fig.show()"
   ]
  },
  {
   "cell_type": "markdown",
   "metadata": {},
   "source": [
    "Мы имеем дело с непараметрическими данными. Поэтому будем использовать тест Манна-Уитни"
   ]
  },
  {
   "cell_type": "code",
   "execution_count": null,
   "metadata": {
    "scrolled": true
   },
   "outputs": [],
   "source": [
    "churn_1 =  df[df['churn'] == 1]['last_activity'] \n",
    "churn_0 = df[df['churn'] == 0]['last_activity'] \n",
    "results = st.mannwhitneyu(churn_1, churn_0)\n",
    "\n",
    "print('p-значение: ', results.pvalue)\n",
    "\n",
    "alpha = 0.05\n",
    "\n",
    "if results.pvalue < alpha:\n",
    "    print('Отвергаем нулевую гипотезу')\n",
    "else:\n",
    "    print(\n",
    "        'Не получилось отвергнуть нулевую гипотезу'\n",
    "    ) "
   ]
  },
  {
   "cell_type": "markdown",
   "metadata": {},
   "source": [
    "__Активность ушедших и оставшихся клиентов не равны__"
   ]
  },
  {
   "cell_type": "markdown",
   "metadata": {},
   "source": [
    "<a id='H3'></a>\n",
    "### Тестирование третьей гипотезы"
   ]
  },
  {
   "cell_type": "markdown",
   "metadata": {},
   "source": [
    "H_0: Количество продуктов клиентов, которые ушли = количество продуктов клиентов, которые остались\n",
    "\n",
    "H_1: Количество продуктов клиентов, которые ушли ≠ количество продуктов клиентов, которые остались\n",
    "\n",
    "    alpha = 0.05"
   ]
  },
  {
   "cell_type": "code",
   "execution_count": null,
   "metadata": {
    "scrolled": true
   },
   "outputs": [],
   "source": [
    "fig = px.histogram(df, x=\"products\", color=\"churn\", marginal=\"rug\",\n",
    "                   hover_data=df.columns, title='Распределение количества продуктов в зависимости от оттока клиентов')\n",
    "fig.update_layout(xaxis_title='Количество продуктов', yaxis_title = \"Количество пользователей\")\n",
    "fig.show()"
   ]
  },
  {
   "cell_type": "markdown",
   "metadata": {},
   "source": [
    "Мы имеем дело с непараметрическими данными. Поэтому будем использовать тест Манна-Уитни"
   ]
  },
  {
   "cell_type": "code",
   "execution_count": null,
   "metadata": {
    "scrolled": true
   },
   "outputs": [],
   "source": [
    "churn_1 =  df[df['churn'] == 1]['products'] \n",
    "churn_0 = df[df['churn'] == 0]['products'] \n",
    "results = st.mannwhitneyu(churn_1, churn_0)\n",
    "\n",
    "print('p-значение: ', results.pvalue)\n",
    "\n",
    "alpha = 0.05\n",
    "\n",
    "if results.pvalue < alpha:\n",
    "    print('Отвергаем нулевую гипотезу: разница статистически значима')\n",
    "else:\n",
    "    print(\n",
    "        'Не получилось отвергнуть нулевую гипотезу, вывод о различии сделать нельзя'\n",
    "    ) "
   ]
  },
  {
   "cell_type": "markdown",
   "metadata": {},
   "source": [
    "__Количество продуктов , которыми пользовались ушедшие клиенты отличается от количества продуктов, которыми пользуются оставшиеся клиенты__"
   ]
  },
  {
   "cell_type": "markdown",
   "metadata": {},
   "source": [
    "<a id='conclusion1'></a>\n",
    "### Выводы"
   ]
  },
  {
   "cell_type": "markdown",
   "metadata": {},
   "source": [
    "__Проверка гипотез подтвердила наши более ранние выводы о различном поведении клиентов которые ушли и которые остались__"
   ]
  },
  {
   "cell_type": "markdown",
   "metadata": {},
   "source": [
    "<a id='presentation'></a>\n",
    "## Презентация\n",
    "\n",
    "https://drive.google.com/file/d/10FNCRIT3BGlPj-xcA_O_vxaJVD5GzMlh/view?usp=share_link"
   ]
  }
 ],
 "metadata": {
  "ExecuteTimeLog": [
   {
    "duration": 8,
    "start_time": "2022-12-07T09:23:51.853Z"
   },
   {
    "duration": 1423,
    "start_time": "2022-12-17T13:58:59.629Z"
   },
   {
    "duration": 1365,
    "start_time": "2022-12-17T13:59:01.054Z"
   },
   {
    "duration": 12,
    "start_time": "2022-12-17T13:59:02.421Z"
   },
   {
    "duration": 35,
    "start_time": "2022-12-17T13:59:02.435Z"
   },
   {
    "duration": 1332,
    "start_time": "2022-12-17T13:59:02.473Z"
   },
   {
    "duration": 5,
    "start_time": "2022-12-17T13:59:03.806Z"
   },
   {
    "duration": 13,
    "start_time": "2022-12-17T13:59:03.813Z"
   },
   {
    "duration": 10,
    "start_time": "2022-12-17T13:59:03.827Z"
   },
   {
    "duration": 1044,
    "start_time": "2022-12-17T13:59:03.838Z"
   },
   {
    "duration": 5,
    "start_time": "2022-12-17T13:59:04.885Z"
   },
   {
    "duration": 8,
    "start_time": "2022-12-17T13:59:04.891Z"
   },
   {
    "duration": 9,
    "start_time": "2022-12-17T13:59:04.921Z"
   },
   {
    "duration": 17,
    "start_time": "2022-12-17T13:59:04.931Z"
   },
   {
    "duration": 91,
    "start_time": "2022-12-17T13:59:04.950Z"
   },
   {
    "duration": 211,
    "start_time": "2022-12-17T13:59:05.043Z"
   },
   {
    "duration": 139,
    "start_time": "2022-12-17T13:59:05.255Z"
   },
   {
    "duration": 161,
    "start_time": "2022-12-17T13:59:05.396Z"
   },
   {
    "duration": 9,
    "start_time": "2022-12-17T13:59:05.559Z"
   },
   {
    "duration": 29,
    "start_time": "2022-12-17T13:59:05.570Z"
   },
   {
    "duration": 24,
    "start_time": "2022-12-17T13:59:05.603Z"
   },
   {
    "duration": 5,
    "start_time": "2022-12-17T13:59:05.629Z"
   },
   {
    "duration": 4,
    "start_time": "2022-12-17T13:59:05.638Z"
   },
   {
    "duration": 13,
    "start_time": "2022-12-17T13:59:05.644Z"
   },
   {
    "duration": 13,
    "start_time": "2022-12-17T13:59:05.659Z"
   },
   {
    "duration": 11,
    "start_time": "2022-12-17T13:59:05.674Z"
   },
   {
    "duration": 1329,
    "start_time": "2022-12-17T13:59:05.687Z"
   },
   {
    "duration": 7,
    "start_time": "2022-12-17T13:59:07.018Z"
   },
   {
    "duration": 654,
    "start_time": "2022-12-17T13:59:07.026Z"
   },
   {
    "duration": 13,
    "start_time": "2022-12-17T13:59:07.682Z"
   },
   {
    "duration": 165,
    "start_time": "2022-12-17T13:59:07.696Z"
   },
   {
    "duration": 60,
    "start_time": "2022-12-17T13:59:07.862Z"
   },
   {
    "duration": 12,
    "start_time": "2022-12-17T13:59:07.924Z"
   },
   {
    "duration": 97,
    "start_time": "2022-12-17T13:59:07.937Z"
   },
   {
    "duration": 5,
    "start_time": "2022-12-17T13:59:08.036Z"
   },
   {
    "duration": 650,
    "start_time": "2022-12-17T13:59:08.042Z"
   },
   {
    "duration": 28,
    "start_time": "2022-12-17T13:59:08.694Z"
   },
   {
    "duration": 5,
    "start_time": "2022-12-17T13:59:08.723Z"
   },
   {
    "duration": 15,
    "start_time": "2022-12-17T13:59:08.730Z"
   },
   {
    "duration": 17,
    "start_time": "2022-12-17T13:59:08.746Z"
   },
   {
    "duration": 82,
    "start_time": "2022-12-17T13:59:08.765Z"
   },
   {
    "duration": 15,
    "start_time": "2022-12-17T13:59:08.851Z"
   },
   {
    "duration": 79,
    "start_time": "2022-12-17T13:59:08.867Z"
   },
   {
    "duration": 5,
    "start_time": "2022-12-17T13:59:08.947Z"
   },
   {
    "duration": 632,
    "start_time": "2022-12-17T13:59:08.954Z"
   },
   {
    "duration": 33,
    "start_time": "2022-12-17T13:59:09.588Z"
   },
   {
    "duration": 42,
    "start_time": "2022-12-17T13:59:09.622Z"
   },
   {
    "duration": 60,
    "start_time": "2022-12-17T13:59:09.665Z"
   },
   {
    "duration": 14,
    "start_time": "2022-12-17T13:59:09.727Z"
   },
   {
    "duration": 46,
    "start_time": "2022-12-17T13:59:09.743Z"
   },
   {
    "duration": 9,
    "start_time": "2022-12-17T13:59:09.821Z"
   },
   {
    "duration": 43,
    "start_time": "2022-12-17T13:59:09.831Z"
   },
   {
    "duration": 14,
    "start_time": "2022-12-17T13:59:09.875Z"
   },
   {
    "duration": 34,
    "start_time": "2022-12-17T13:59:09.891Z"
   },
   {
    "duration": 51,
    "start_time": "2022-12-17T13:59:09.927Z"
   },
   {
    "duration": 5,
    "start_time": "2022-12-17T13:59:09.980Z"
   },
   {
    "duration": 39,
    "start_time": "2022-12-17T13:59:09.986Z"
   },
   {
    "duration": 42,
    "start_time": "2022-12-17T13:59:10.027Z"
   },
   {
    "duration": 13,
    "start_time": "2022-12-17T13:59:10.070Z"
   },
   {
    "duration": 64,
    "start_time": "2022-12-17T13:59:10.085Z"
   },
   {
    "duration": 652,
    "start_time": "2022-12-17T13:59:10.151Z"
   },
   {
    "duration": 22,
    "start_time": "2022-12-17T13:59:10.805Z"
   },
   {
    "duration": 92,
    "start_time": "2022-12-17T13:59:10.829Z"
   },
   {
    "duration": 15,
    "start_time": "2022-12-17T13:59:10.923Z"
   },
   {
    "duration": 13,
    "start_time": "2022-12-17T13:59:10.940Z"
   },
   {
    "duration": 13,
    "start_time": "2022-12-17T13:59:10.954Z"
   },
   {
    "duration": 86,
    "start_time": "2022-12-17T13:59:10.968Z"
   },
   {
    "duration": 661,
    "start_time": "2022-12-17T13:59:11.056Z"
   },
   {
    "duration": 8,
    "start_time": "2022-12-17T13:59:11.721Z"
   },
   {
    "duration": 684,
    "start_time": "2022-12-17T13:59:11.731Z"
   },
   {
    "duration": 14,
    "start_time": "2022-12-17T13:59:12.417Z"
   },
   {
    "duration": 721,
    "start_time": "2022-12-17T13:59:12.433Z"
   },
   {
    "duration": 12,
    "start_time": "2022-12-17T13:59:13.156Z"
   },
   {
    "duration": 51,
    "start_time": "2022-12-17T14:11:07.226Z"
   },
   {
    "duration": 1415,
    "start_time": "2022-12-18T09:44:37.264Z"
   },
   {
    "duration": 1322,
    "start_time": "2022-12-18T09:44:38.955Z"
   },
   {
    "duration": 14,
    "start_time": "2022-12-18T09:44:40.736Z"
   },
   {
    "duration": 44,
    "start_time": "2022-12-18T09:44:41.794Z"
   },
   {
    "duration": 1572,
    "start_time": "2022-12-18T09:44:42.538Z"
   },
   {
    "duration": 5,
    "start_time": "2022-12-18T09:44:45.852Z"
   },
   {
    "duration": 8,
    "start_time": "2022-12-18T09:44:47.909Z"
   },
   {
    "duration": 8,
    "start_time": "2022-12-18T09:44:49.148Z"
   },
   {
    "duration": 1216,
    "start_time": "2022-12-18T09:44:50.037Z"
   },
   {
    "duration": 6,
    "start_time": "2022-12-18T09:44:53.450Z"
   },
   {
    "duration": 6,
    "start_time": "2022-12-18T09:44:54.662Z"
   },
   {
    "duration": 10,
    "start_time": "2022-12-18T09:44:55.810Z"
   },
   {
    "duration": 24,
    "start_time": "2022-12-18T09:44:56.392Z"
   },
   {
    "duration": 46,
    "start_time": "2022-12-18T09:44:57.953Z"
   },
   {
    "duration": 106,
    "start_time": "2022-12-18T09:44:59.708Z"
   },
   {
    "duration": 108,
    "start_time": "2022-12-18T09:45:01.079Z"
   },
   {
    "duration": 109,
    "start_time": "2022-12-18T09:45:02.235Z"
   },
   {
    "duration": 7,
    "start_time": "2022-12-18T09:45:05.366Z"
   },
   {
    "duration": 11,
    "start_time": "2022-12-18T09:45:09.555Z"
   },
   {
    "duration": 10,
    "start_time": "2022-12-18T09:49:44.877Z"
   },
   {
    "duration": 6,
    "start_time": "2022-12-18T09:50:07.463Z"
   },
   {
    "duration": 6,
    "start_time": "2022-12-18T09:50:15.438Z"
   },
   {
    "duration": 4,
    "start_time": "2022-12-18T09:50:18.054Z"
   },
   {
    "duration": 12,
    "start_time": "2022-12-18T10:01:25.743Z"
   },
   {
    "duration": 15,
    "start_time": "2022-12-18T10:01:28.561Z"
   },
   {
    "duration": 3,
    "start_time": "2022-12-18T10:01:34.745Z"
   },
   {
    "duration": 1852,
    "start_time": "2022-12-18T10:05:34.495Z"
   },
   {
    "duration": 6,
    "start_time": "2022-12-18T10:07:25.086Z"
   },
   {
    "duration": 665,
    "start_time": "2022-12-18T10:07:28.092Z"
   },
   {
    "duration": 20,
    "start_time": "2022-12-18T10:10:26.665Z"
   },
   {
    "duration": 188,
    "start_time": "2022-12-18T10:10:32.417Z"
   },
   {
    "duration": 10,
    "start_time": "2022-12-18T10:10:41.409Z"
   },
   {
    "duration": 62,
    "start_time": "2022-12-18T10:12:18.217Z"
   },
   {
    "duration": 14,
    "start_time": "2022-12-18T10:16:36.650Z"
   },
   {
    "duration": 37,
    "start_time": "2022-12-18T10:16:58.344Z"
   },
   {
    "duration": 18,
    "start_time": "2022-12-18T10:37:58.799Z"
   },
   {
    "duration": 16,
    "start_time": "2022-12-18T10:38:21.945Z"
   },
   {
    "duration": 16,
    "start_time": "2022-12-18T10:39:24.298Z"
   },
   {
    "duration": 15,
    "start_time": "2022-12-18T10:42:48.419Z"
   },
   {
    "duration": 15,
    "start_time": "2022-12-18T10:43:21.032Z"
   },
   {
    "duration": 15,
    "start_time": "2022-12-18T10:43:37.775Z"
   },
   {
    "duration": 16,
    "start_time": "2022-12-18T10:43:43.888Z"
   },
   {
    "duration": 18,
    "start_time": "2022-12-18T10:48:50.454Z"
   },
   {
    "duration": 15,
    "start_time": "2022-12-18T10:48:51.560Z"
   },
   {
    "duration": 17,
    "start_time": "2022-12-18T10:48:52.430Z"
   },
   {
    "duration": 37,
    "start_time": "2022-12-18T10:49:00.059Z"
   },
   {
    "duration": 15,
    "start_time": "2022-12-18T10:51:08.912Z"
   },
   {
    "duration": 19,
    "start_time": "2022-12-18T10:51:14.874Z"
   },
   {
    "duration": 15,
    "start_time": "2022-12-18T10:51:19.447Z"
   },
   {
    "duration": 16,
    "start_time": "2022-12-18T10:51:23.806Z"
   },
   {
    "duration": 18,
    "start_time": "2022-12-18T11:07:20.114Z"
   },
   {
    "duration": 11,
    "start_time": "2022-12-18T11:07:21.509Z"
   },
   {
    "duration": 98,
    "start_time": "2022-12-18T11:07:26.626Z"
   },
   {
    "duration": 6,
    "start_time": "2022-12-18T11:16:11.251Z"
   },
   {
    "duration": 16,
    "start_time": "2022-12-18T11:16:11.825Z"
   },
   {
    "duration": 53,
    "start_time": "2022-12-18T11:16:12.664Z"
   },
   {
    "duration": 16,
    "start_time": "2022-12-18T11:16:25.203Z"
   },
   {
    "duration": 73,
    "start_time": "2022-12-18T11:16:32.535Z"
   },
   {
    "duration": 6,
    "start_time": "2022-12-18T11:17:34.103Z"
   },
   {
    "duration": 20,
    "start_time": "2022-12-18T11:17:34.762Z"
   },
   {
    "duration": 74,
    "start_time": "2022-12-18T11:17:35.377Z"
   },
   {
    "duration": 16,
    "start_time": "2022-12-18T11:22:24.740Z"
   },
   {
    "duration": 5,
    "start_time": "2022-12-18T11:22:31.896Z"
   },
   {
    "duration": 12,
    "start_time": "2022-12-18T11:22:32.488Z"
   },
   {
    "duration": 13,
    "start_time": "2022-12-18T11:22:33.089Z"
   },
   {
    "duration": 34,
    "start_time": "2022-12-18T11:22:33.852Z"
   },
   {
    "duration": 18,
    "start_time": "2022-12-18T11:22:36.950Z"
   },
   {
    "duration": 153,
    "start_time": "2022-12-18T11:22:38.012Z"
   },
   {
    "duration": 18,
    "start_time": "2022-12-18T11:29:17.836Z"
   },
   {
    "duration": 15,
    "start_time": "2022-12-18T11:29:25.757Z"
   },
   {
    "duration": 15,
    "start_time": "2022-12-18T11:29:37.968Z"
   },
   {
    "duration": 16,
    "start_time": "2022-12-18T11:29:46.910Z"
   },
   {
    "duration": 16,
    "start_time": "2022-12-18T11:29:50.596Z"
   },
   {
    "duration": 18,
    "start_time": "2022-12-18T11:29:56.742Z"
   },
   {
    "duration": 15,
    "start_time": "2022-12-18T11:29:57.179Z"
   },
   {
    "duration": 38,
    "start_time": "2022-12-18T11:29:58.941Z"
   },
   {
    "duration": 53,
    "start_time": "2022-12-18T11:41:41.432Z"
   },
   {
    "duration": 51,
    "start_time": "2022-12-18T11:42:03.353Z"
   },
   {
    "duration": 0,
    "start_time": "2022-12-18T11:42:03.405Z"
   },
   {
    "duration": 0,
    "start_time": "2022-12-18T11:42:03.406Z"
   },
   {
    "duration": 0,
    "start_time": "2022-12-18T11:42:03.408Z"
   },
   {
    "duration": 0,
    "start_time": "2022-12-18T11:42:03.409Z"
   },
   {
    "duration": 0,
    "start_time": "2022-12-18T11:42:03.410Z"
   },
   {
    "duration": 46,
    "start_time": "2022-12-18T11:42:03.424Z"
   },
   {
    "duration": 0,
    "start_time": "2022-12-18T11:42:03.472Z"
   },
   {
    "duration": 0,
    "start_time": "2022-12-18T11:42:03.474Z"
   },
   {
    "duration": 0,
    "start_time": "2022-12-18T11:42:03.476Z"
   },
   {
    "duration": 0,
    "start_time": "2022-12-18T11:42:03.477Z"
   },
   {
    "duration": 0,
    "start_time": "2022-12-18T11:42:03.478Z"
   },
   {
    "duration": 0,
    "start_time": "2022-12-18T11:42:03.479Z"
   },
   {
    "duration": 0,
    "start_time": "2022-12-18T11:42:03.481Z"
   },
   {
    "duration": 0,
    "start_time": "2022-12-18T11:42:03.482Z"
   },
   {
    "duration": 0,
    "start_time": "2022-12-18T11:42:03.484Z"
   },
   {
    "duration": 0,
    "start_time": "2022-12-18T11:42:03.485Z"
   },
   {
    "duration": 1,
    "start_time": "2022-12-18T11:42:03.511Z"
   },
   {
    "duration": 0,
    "start_time": "2022-12-18T11:42:03.513Z"
   },
   {
    "duration": 8,
    "start_time": "2022-12-18T11:42:03.516Z"
   },
   {
    "duration": 0,
    "start_time": "2022-12-18T11:42:03.525Z"
   },
   {
    "duration": 0,
    "start_time": "2022-12-18T11:42:03.526Z"
   },
   {
    "duration": 0,
    "start_time": "2022-12-18T11:42:03.527Z"
   },
   {
    "duration": 0,
    "start_time": "2022-12-18T11:42:03.528Z"
   },
   {
    "duration": 0,
    "start_time": "2022-12-18T11:42:03.530Z"
   },
   {
    "duration": 0,
    "start_time": "2022-12-18T11:42:03.532Z"
   },
   {
    "duration": 10,
    "start_time": "2022-12-18T11:42:03.534Z"
   },
   {
    "duration": 0,
    "start_time": "2022-12-18T11:42:03.546Z"
   },
   {
    "duration": 0,
    "start_time": "2022-12-18T11:42:03.547Z"
   },
   {
    "duration": 69,
    "start_time": "2022-12-18T11:42:03.550Z"
   },
   {
    "duration": 0,
    "start_time": "2022-12-18T11:42:03.621Z"
   },
   {
    "duration": 0,
    "start_time": "2022-12-18T11:42:03.623Z"
   },
   {
    "duration": 12,
    "start_time": "2022-12-18T11:42:03.626Z"
   },
   {
    "duration": 0,
    "start_time": "2022-12-18T11:42:03.642Z"
   },
   {
    "duration": 0,
    "start_time": "2022-12-18T11:42:03.643Z"
   },
   {
    "duration": 0,
    "start_time": "2022-12-18T11:42:03.645Z"
   },
   {
    "duration": 0,
    "start_time": "2022-12-18T11:42:03.646Z"
   },
   {
    "duration": 0,
    "start_time": "2022-12-18T11:42:03.648Z"
   },
   {
    "duration": 0,
    "start_time": "2022-12-18T11:42:03.649Z"
   },
   {
    "duration": 0,
    "start_time": "2022-12-18T11:42:03.651Z"
   },
   {
    "duration": 0,
    "start_time": "2022-12-18T11:42:03.653Z"
   },
   {
    "duration": 0,
    "start_time": "2022-12-18T11:42:03.654Z"
   },
   {
    "duration": 1,
    "start_time": "2022-12-18T11:42:03.712Z"
   },
   {
    "duration": 0,
    "start_time": "2022-12-18T11:42:03.714Z"
   },
   {
    "duration": 0,
    "start_time": "2022-12-18T11:42:03.716Z"
   },
   {
    "duration": 0,
    "start_time": "2022-12-18T11:42:03.717Z"
   },
   {
    "duration": 0,
    "start_time": "2022-12-18T11:42:03.719Z"
   },
   {
    "duration": 1,
    "start_time": "2022-12-18T11:42:03.719Z"
   },
   {
    "duration": 0,
    "start_time": "2022-12-18T11:42:03.721Z"
   },
   {
    "duration": 0,
    "start_time": "2022-12-18T11:42:03.722Z"
   },
   {
    "duration": 0,
    "start_time": "2022-12-18T11:42:03.723Z"
   },
   {
    "duration": 0,
    "start_time": "2022-12-18T11:42:03.724Z"
   },
   {
    "duration": 0,
    "start_time": "2022-12-18T11:42:03.725Z"
   },
   {
    "duration": 0,
    "start_time": "2022-12-18T11:42:03.726Z"
   },
   {
    "duration": 0,
    "start_time": "2022-12-18T11:42:03.728Z"
   },
   {
    "duration": 9,
    "start_time": "2022-12-18T11:42:03.731Z"
   },
   {
    "duration": 0,
    "start_time": "2022-12-18T11:42:03.742Z"
   },
   {
    "duration": 0,
    "start_time": "2022-12-18T11:42:03.744Z"
   },
   {
    "duration": 0,
    "start_time": "2022-12-18T11:42:03.744Z"
   },
   {
    "duration": 0,
    "start_time": "2022-12-18T11:42:03.746Z"
   },
   {
    "duration": 0,
    "start_time": "2022-12-18T11:42:03.747Z"
   },
   {
    "duration": 0,
    "start_time": "2022-12-18T11:42:03.748Z"
   },
   {
    "duration": 0,
    "start_time": "2022-12-18T11:42:03.749Z"
   },
   {
    "duration": 0,
    "start_time": "2022-12-18T11:42:03.750Z"
   },
   {
    "duration": 0,
    "start_time": "2022-12-18T11:42:03.812Z"
   },
   {
    "duration": 0,
    "start_time": "2022-12-18T11:42:03.815Z"
   },
   {
    "duration": 9,
    "start_time": "2022-12-18T11:42:03.816Z"
   },
   {
    "duration": 0,
    "start_time": "2022-12-18T11:42:03.827Z"
   },
   {
    "duration": 0,
    "start_time": "2022-12-18T11:42:03.827Z"
   },
   {
    "duration": 0,
    "start_time": "2022-12-18T11:42:03.828Z"
   },
   {
    "duration": 0,
    "start_time": "2022-12-18T11:42:03.830Z"
   },
   {
    "duration": 0,
    "start_time": "2022-12-18T11:42:03.831Z"
   },
   {
    "duration": 50,
    "start_time": "2022-12-18T11:42:26.925Z"
   },
   {
    "duration": 0,
    "start_time": "2022-12-18T11:42:26.978Z"
   },
   {
    "duration": 1,
    "start_time": "2022-12-18T11:42:26.980Z"
   },
   {
    "duration": 0,
    "start_time": "2022-12-18T11:42:26.983Z"
   },
   {
    "duration": 0,
    "start_time": "2022-12-18T11:42:26.984Z"
   },
   {
    "duration": 0,
    "start_time": "2022-12-18T11:42:26.986Z"
   },
   {
    "duration": 0,
    "start_time": "2022-12-18T11:42:26.987Z"
   },
   {
    "duration": 0,
    "start_time": "2022-12-18T11:42:26.988Z"
   },
   {
    "duration": 0,
    "start_time": "2022-12-18T11:42:26.990Z"
   },
   {
    "duration": 0,
    "start_time": "2022-12-18T11:42:26.991Z"
   },
   {
    "duration": 0,
    "start_time": "2022-12-18T11:42:26.992Z"
   },
   {
    "duration": 0,
    "start_time": "2022-12-18T11:42:26.993Z"
   },
   {
    "duration": 0,
    "start_time": "2022-12-18T11:42:26.994Z"
   },
   {
    "duration": 0,
    "start_time": "2022-12-18T11:42:26.995Z"
   },
   {
    "duration": 0,
    "start_time": "2022-12-18T11:42:26.996Z"
   },
   {
    "duration": 0,
    "start_time": "2022-12-18T11:42:26.997Z"
   },
   {
    "duration": 0,
    "start_time": "2022-12-18T11:42:26.999Z"
   },
   {
    "duration": 0,
    "start_time": "2022-12-18T11:42:27.000Z"
   },
   {
    "duration": 0,
    "start_time": "2022-12-18T11:42:27.001Z"
   },
   {
    "duration": 0,
    "start_time": "2022-12-18T11:42:27.002Z"
   },
   {
    "duration": 0,
    "start_time": "2022-12-18T11:42:27.003Z"
   },
   {
    "duration": 0,
    "start_time": "2022-12-18T11:42:27.004Z"
   },
   {
    "duration": 0,
    "start_time": "2022-12-18T11:42:27.005Z"
   },
   {
    "duration": 0,
    "start_time": "2022-12-18T11:42:27.007Z"
   },
   {
    "duration": 44,
    "start_time": "2022-12-18T11:42:27.012Z"
   },
   {
    "duration": 0,
    "start_time": "2022-12-18T11:42:27.058Z"
   },
   {
    "duration": 8,
    "start_time": "2022-12-18T11:42:27.405Z"
   },
   {
    "duration": 0,
    "start_time": "2022-12-18T11:42:27.415Z"
   },
   {
    "duration": 0,
    "start_time": "2022-12-18T11:42:27.417Z"
   },
   {
    "duration": 0,
    "start_time": "2022-12-18T11:42:27.418Z"
   },
   {
    "duration": 0,
    "start_time": "2022-12-18T11:42:27.419Z"
   },
   {
    "duration": 0,
    "start_time": "2022-12-18T11:42:27.420Z"
   },
   {
    "duration": 0,
    "start_time": "2022-12-18T11:42:27.421Z"
   },
   {
    "duration": 0,
    "start_time": "2022-12-18T11:42:27.422Z"
   },
   {
    "duration": 0,
    "start_time": "2022-12-18T11:42:27.423Z"
   },
   {
    "duration": 0,
    "start_time": "2022-12-18T11:42:27.424Z"
   },
   {
    "duration": 0,
    "start_time": "2022-12-18T11:42:27.425Z"
   },
   {
    "duration": 0,
    "start_time": "2022-12-18T11:42:27.426Z"
   },
   {
    "duration": 0,
    "start_time": "2022-12-18T11:42:27.427Z"
   },
   {
    "duration": 0,
    "start_time": "2022-12-18T11:42:27.428Z"
   },
   {
    "duration": 0,
    "start_time": "2022-12-18T11:42:27.429Z"
   },
   {
    "duration": 0,
    "start_time": "2022-12-18T11:42:27.430Z"
   },
   {
    "duration": 0,
    "start_time": "2022-12-18T11:42:27.431Z"
   },
   {
    "duration": 0,
    "start_time": "2022-12-18T11:42:27.432Z"
   },
   {
    "duration": 0,
    "start_time": "2022-12-18T11:42:27.432Z"
   },
   {
    "duration": 0,
    "start_time": "2022-12-18T11:42:27.433Z"
   },
   {
    "duration": 0,
    "start_time": "2022-12-18T11:42:27.434Z"
   },
   {
    "duration": 0,
    "start_time": "2022-12-18T11:42:27.435Z"
   },
   {
    "duration": 0,
    "start_time": "2022-12-18T11:42:27.436Z"
   },
   {
    "duration": 0,
    "start_time": "2022-12-18T11:42:27.437Z"
   },
   {
    "duration": 0,
    "start_time": "2022-12-18T11:42:27.438Z"
   },
   {
    "duration": 0,
    "start_time": "2022-12-18T11:42:27.439Z"
   },
   {
    "duration": 0,
    "start_time": "2022-12-18T11:42:27.440Z"
   },
   {
    "duration": 0,
    "start_time": "2022-12-18T11:42:27.440Z"
   },
   {
    "duration": 0,
    "start_time": "2022-12-18T11:42:27.442Z"
   },
   {
    "duration": 0,
    "start_time": "2022-12-18T11:42:27.443Z"
   },
   {
    "duration": 0,
    "start_time": "2022-12-18T11:42:27.444Z"
   },
   {
    "duration": 0,
    "start_time": "2022-12-18T11:42:27.445Z"
   },
   {
    "duration": 0,
    "start_time": "2022-12-18T11:42:27.446Z"
   },
   {
    "duration": 0,
    "start_time": "2022-12-18T11:42:27.447Z"
   },
   {
    "duration": 0,
    "start_time": "2022-12-18T11:42:27.448Z"
   },
   {
    "duration": 0,
    "start_time": "2022-12-18T11:42:27.450Z"
   },
   {
    "duration": 0,
    "start_time": "2022-12-18T11:42:27.451Z"
   },
   {
    "duration": 0,
    "start_time": "2022-12-18T11:42:27.452Z"
   },
   {
    "duration": 0,
    "start_time": "2022-12-18T11:42:27.453Z"
   },
   {
    "duration": 0,
    "start_time": "2022-12-18T11:42:27.454Z"
   },
   {
    "duration": 0,
    "start_time": "2022-12-18T11:42:27.512Z"
   },
   {
    "duration": 0,
    "start_time": "2022-12-18T11:42:27.514Z"
   },
   {
    "duration": 0,
    "start_time": "2022-12-18T11:42:27.515Z"
   },
   {
    "duration": 0,
    "start_time": "2022-12-18T11:42:27.516Z"
   },
   {
    "duration": 7,
    "start_time": "2022-12-18T11:42:27.522Z"
   },
   {
    "duration": 0,
    "start_time": "2022-12-18T11:42:27.530Z"
   },
   {
    "duration": 58,
    "start_time": "2022-12-18T11:42:45.119Z"
   },
   {
    "duration": 0,
    "start_time": "2022-12-18T11:42:45.179Z"
   },
   {
    "duration": 0,
    "start_time": "2022-12-18T11:42:45.181Z"
   },
   {
    "duration": 0,
    "start_time": "2022-12-18T11:42:45.182Z"
   },
   {
    "duration": 0,
    "start_time": "2022-12-18T11:42:45.183Z"
   },
   {
    "duration": 0,
    "start_time": "2022-12-18T11:42:45.184Z"
   },
   {
    "duration": 0,
    "start_time": "2022-12-18T11:42:45.185Z"
   },
   {
    "duration": 0,
    "start_time": "2022-12-18T11:42:45.186Z"
   },
   {
    "duration": 0,
    "start_time": "2022-12-18T11:42:45.187Z"
   },
   {
    "duration": 0,
    "start_time": "2022-12-18T11:42:45.188Z"
   },
   {
    "duration": 0,
    "start_time": "2022-12-18T11:42:45.189Z"
   },
   {
    "duration": 0,
    "start_time": "2022-12-18T11:42:45.190Z"
   },
   {
    "duration": 0,
    "start_time": "2022-12-18T11:42:45.190Z"
   },
   {
    "duration": 0,
    "start_time": "2022-12-18T11:42:45.192Z"
   },
   {
    "duration": 0,
    "start_time": "2022-12-18T11:42:45.193Z"
   },
   {
    "duration": 0,
    "start_time": "2022-12-18T11:42:45.194Z"
   },
   {
    "duration": 0,
    "start_time": "2022-12-18T11:42:45.195Z"
   },
   {
    "duration": 0,
    "start_time": "2022-12-18T11:42:45.196Z"
   },
   {
    "duration": 0,
    "start_time": "2022-12-18T11:42:45.197Z"
   },
   {
    "duration": 0,
    "start_time": "2022-12-18T11:42:45.198Z"
   },
   {
    "duration": 0,
    "start_time": "2022-12-18T11:42:45.199Z"
   },
   {
    "duration": 0,
    "start_time": "2022-12-18T11:42:45.200Z"
   },
   {
    "duration": 57,
    "start_time": "2022-12-18T11:42:45.211Z"
   },
   {
    "duration": 1,
    "start_time": "2022-12-18T11:42:45.270Z"
   },
   {
    "duration": 0,
    "start_time": "2022-12-18T11:42:45.271Z"
   },
   {
    "duration": 0,
    "start_time": "2022-12-18T11:42:45.272Z"
   },
   {
    "duration": 1,
    "start_time": "2022-12-18T11:42:45.273Z"
   },
   {
    "duration": 0,
    "start_time": "2022-12-18T11:42:45.274Z"
   },
   {
    "duration": 0,
    "start_time": "2022-12-18T11:42:45.275Z"
   },
   {
    "duration": 0,
    "start_time": "2022-12-18T11:42:45.275Z"
   },
   {
    "duration": 0,
    "start_time": "2022-12-18T11:42:45.276Z"
   },
   {
    "duration": 0,
    "start_time": "2022-12-18T11:42:45.276Z"
   },
   {
    "duration": 0,
    "start_time": "2022-12-18T11:42:45.277Z"
   },
   {
    "duration": 0,
    "start_time": "2022-12-18T11:42:45.277Z"
   },
   {
    "duration": 0,
    "start_time": "2022-12-18T11:42:45.311Z"
   },
   {
    "duration": 0,
    "start_time": "2022-12-18T11:42:45.313Z"
   },
   {
    "duration": 0,
    "start_time": "2022-12-18T11:42:45.314Z"
   },
   {
    "duration": 0,
    "start_time": "2022-12-18T11:42:45.315Z"
   },
   {
    "duration": 0,
    "start_time": "2022-12-18T11:42:45.316Z"
   },
   {
    "duration": 0,
    "start_time": "2022-12-18T11:42:45.317Z"
   },
   {
    "duration": 0,
    "start_time": "2022-12-18T11:42:45.318Z"
   },
   {
    "duration": 0,
    "start_time": "2022-12-18T11:42:45.319Z"
   },
   {
    "duration": 0,
    "start_time": "2022-12-18T11:42:45.320Z"
   },
   {
    "duration": 0,
    "start_time": "2022-12-18T11:42:45.321Z"
   },
   {
    "duration": 0,
    "start_time": "2022-12-18T11:42:45.323Z"
   },
   {
    "duration": 0,
    "start_time": "2022-12-18T11:42:45.324Z"
   },
   {
    "duration": 0,
    "start_time": "2022-12-18T11:42:45.326Z"
   },
   {
    "duration": 0,
    "start_time": "2022-12-18T11:42:45.327Z"
   },
   {
    "duration": 0,
    "start_time": "2022-12-18T11:42:45.329Z"
   },
   {
    "duration": 0,
    "start_time": "2022-12-18T11:42:45.330Z"
   },
   {
    "duration": 0,
    "start_time": "2022-12-18T11:42:45.332Z"
   },
   {
    "duration": 74,
    "start_time": "2022-12-18T11:42:45.339Z"
   },
   {
    "duration": 0,
    "start_time": "2022-12-18T11:42:45.415Z"
   },
   {
    "duration": 0,
    "start_time": "2022-12-18T11:42:45.416Z"
   },
   {
    "duration": 0,
    "start_time": "2022-12-18T11:42:45.418Z"
   },
   {
    "duration": 0,
    "start_time": "2022-12-18T11:42:45.419Z"
   },
   {
    "duration": 0,
    "start_time": "2022-12-18T11:42:45.420Z"
   },
   {
    "duration": 0,
    "start_time": "2022-12-18T11:42:45.422Z"
   },
   {
    "duration": 0,
    "start_time": "2022-12-18T11:42:45.423Z"
   },
   {
    "duration": 0,
    "start_time": "2022-12-18T11:42:45.424Z"
   },
   {
    "duration": 0,
    "start_time": "2022-12-18T11:42:45.425Z"
   },
   {
    "duration": 0,
    "start_time": "2022-12-18T11:42:45.426Z"
   },
   {
    "duration": 0,
    "start_time": "2022-12-18T11:42:45.427Z"
   },
   {
    "duration": 0,
    "start_time": "2022-12-18T11:42:45.428Z"
   },
   {
    "duration": 0,
    "start_time": "2022-12-18T11:42:45.429Z"
   },
   {
    "duration": 0,
    "start_time": "2022-12-18T11:42:45.431Z"
   },
   {
    "duration": 0,
    "start_time": "2022-12-18T11:42:45.431Z"
   },
   {
    "duration": 1,
    "start_time": "2022-12-18T11:42:45.432Z"
   },
   {
    "duration": 0,
    "start_time": "2022-12-18T11:42:45.433Z"
   },
   {
    "duration": 0,
    "start_time": "2022-12-18T11:42:45.434Z"
   },
   {
    "duration": 0,
    "start_time": "2022-12-18T11:42:45.435Z"
   },
   {
    "duration": 0,
    "start_time": "2022-12-18T11:42:45.437Z"
   },
   {
    "duration": 1362,
    "start_time": "2022-12-18T11:43:21.632Z"
   },
   {
    "duration": 1080,
    "start_time": "2022-12-18T11:43:22.996Z"
   },
   {
    "duration": 15,
    "start_time": "2022-12-18T11:43:24.078Z"
   },
   {
    "duration": 49,
    "start_time": "2022-12-18T11:43:24.096Z"
   },
   {
    "duration": 1559,
    "start_time": "2022-12-18T11:43:24.148Z"
   },
   {
    "duration": 6,
    "start_time": "2022-12-18T11:43:25.709Z"
   },
   {
    "duration": 17,
    "start_time": "2022-12-18T11:43:25.717Z"
   },
   {
    "duration": 8,
    "start_time": "2022-12-18T11:43:25.736Z"
   },
   {
    "duration": 1210,
    "start_time": "2022-12-18T11:43:25.746Z"
   },
   {
    "duration": 9,
    "start_time": "2022-12-18T11:43:26.959Z"
   },
   {
    "duration": 6,
    "start_time": "2022-12-18T11:43:26.970Z"
   },
   {
    "duration": 41,
    "start_time": "2022-12-18T11:43:26.978Z"
   },
   {
    "duration": 17,
    "start_time": "2022-12-18T11:43:27.020Z"
   },
   {
    "duration": 95,
    "start_time": "2022-12-18T11:43:27.040Z"
   },
   {
    "duration": 179,
    "start_time": "2022-12-18T11:43:27.138Z"
   },
   {
    "duration": 116,
    "start_time": "2022-12-18T11:43:27.319Z"
   },
   {
    "duration": 122,
    "start_time": "2022-12-18T11:43:27.437Z"
   },
   {
    "duration": 6,
    "start_time": "2022-12-18T11:43:27.561Z"
   },
   {
    "duration": 7,
    "start_time": "2022-12-18T11:43:27.569Z"
   },
   {
    "duration": 8,
    "start_time": "2022-12-18T11:43:27.578Z"
   },
   {
    "duration": 24,
    "start_time": "2022-12-18T11:43:27.588Z"
   },
   {
    "duration": 9,
    "start_time": "2022-12-18T11:43:27.614Z"
   },
   {
    "duration": 12,
    "start_time": "2022-12-18T11:43:27.625Z"
   },
   {
    "duration": 5,
    "start_time": "2022-12-18T11:43:27.639Z"
   },
   {
    "duration": 1715,
    "start_time": "2022-12-18T11:43:27.645Z"
   },
   {
    "duration": 6,
    "start_time": "2022-12-18T11:43:29.361Z"
   },
   {
    "duration": 700,
    "start_time": "2022-12-18T11:43:29.369Z"
   },
   {
    "duration": 15,
    "start_time": "2022-12-18T11:43:30.071Z"
   },
   {
    "duration": 225,
    "start_time": "2022-12-18T11:43:30.112Z"
   },
   {
    "duration": 16,
    "start_time": "2022-12-18T11:43:30.339Z"
   },
   {
    "duration": 59,
    "start_time": "2022-12-18T11:43:30.357Z"
   },
   {
    "duration": 38,
    "start_time": "2022-12-18T11:43:30.418Z"
   },
   {
    "duration": 23,
    "start_time": "2022-12-18T11:43:30.458Z"
   },
   {
    "duration": 680,
    "start_time": "2022-12-18T11:43:30.483Z"
   },
   {
    "duration": 16,
    "start_time": "2022-12-18T11:43:31.166Z"
   },
   {
    "duration": 6,
    "start_time": "2022-12-18T11:43:31.213Z"
   },
   {
    "duration": 31,
    "start_time": "2022-12-18T11:43:31.221Z"
   },
   {
    "duration": 59,
    "start_time": "2022-12-18T11:43:31.255Z"
   },
   {
    "duration": 104,
    "start_time": "2022-12-18T11:43:31.316Z"
   },
   {
    "duration": 39,
    "start_time": "2022-12-18T11:43:31.423Z"
   },
   {
    "duration": 81,
    "start_time": "2022-12-18T11:43:31.468Z"
   },
   {
    "duration": 6,
    "start_time": "2022-12-18T11:43:31.551Z"
   },
   {
    "duration": 761,
    "start_time": "2022-12-18T11:43:31.559Z"
   },
   {
    "duration": 16,
    "start_time": "2022-12-18T11:43:32.322Z"
   },
   {
    "duration": 106,
    "start_time": "2022-12-18T11:43:32.340Z"
   },
   {
    "duration": 67,
    "start_time": "2022-12-18T11:43:32.448Z"
   },
   {
    "duration": 23,
    "start_time": "2022-12-18T11:43:32.517Z"
   },
   {
    "duration": 180,
    "start_time": "2022-12-18T11:43:32.542Z"
   },
   {
    "duration": 10,
    "start_time": "2022-12-18T11:43:32.724Z"
   },
   {
    "duration": 68,
    "start_time": "2022-12-18T11:43:32.735Z"
   },
   {
    "duration": 20,
    "start_time": "2022-12-18T11:43:32.805Z"
   },
   {
    "duration": 11,
    "start_time": "2022-12-18T11:43:32.827Z"
   },
   {
    "duration": 89,
    "start_time": "2022-12-18T11:43:32.839Z"
   },
   {
    "duration": 5,
    "start_time": "2022-12-18T11:43:32.930Z"
   },
   {
    "duration": 32,
    "start_time": "2022-12-18T11:43:32.937Z"
   },
   {
    "duration": 60,
    "start_time": "2022-12-18T11:43:32.971Z"
   },
   {
    "duration": 21,
    "start_time": "2022-12-18T11:43:33.032Z"
   },
   {
    "duration": 66,
    "start_time": "2022-12-18T11:43:33.056Z"
   },
   {
    "duration": 677,
    "start_time": "2022-12-18T11:43:33.124Z"
   },
   {
    "duration": 21,
    "start_time": "2022-12-18T11:43:33.803Z"
   },
   {
    "duration": 108,
    "start_time": "2022-12-18T11:43:33.825Z"
   },
   {
    "duration": 15,
    "start_time": "2022-12-18T11:43:33.935Z"
   },
   {
    "duration": 72,
    "start_time": "2022-12-18T11:43:33.951Z"
   },
   {
    "duration": 16,
    "start_time": "2022-12-18T11:43:34.025Z"
   },
   {
    "duration": 69,
    "start_time": "2022-12-18T11:43:34.043Z"
   },
   {
    "duration": 669,
    "start_time": "2022-12-18T11:43:34.114Z"
   },
   {
    "duration": 26,
    "start_time": "2022-12-18T11:43:34.786Z"
   },
   {
    "duration": 714,
    "start_time": "2022-12-18T11:43:34.815Z"
   },
   {
    "duration": 12,
    "start_time": "2022-12-18T11:43:35.532Z"
   },
   {
    "duration": 756,
    "start_time": "2022-12-18T11:43:35.546Z"
   },
   {
    "duration": 18,
    "start_time": "2022-12-18T11:43:36.304Z"
   },
   {
    "duration": 1747,
    "start_time": "2022-12-18T14:45:28.058Z"
   },
   {
    "duration": 1135,
    "start_time": "2022-12-18T14:45:29.808Z"
   },
   {
    "duration": 21,
    "start_time": "2022-12-18T14:45:30.946Z"
   },
   {
    "duration": 94,
    "start_time": "2022-12-18T14:45:30.970Z"
   },
   {
    "duration": 1894,
    "start_time": "2022-12-18T14:45:31.067Z"
   },
   {
    "duration": 7,
    "start_time": "2022-12-18T14:45:32.963Z"
   },
   {
    "duration": 15,
    "start_time": "2022-12-18T14:45:32.973Z"
   },
   {
    "duration": 20,
    "start_time": "2022-12-18T14:45:32.990Z"
   },
   {
    "duration": 1330,
    "start_time": "2022-12-18T14:45:33.013Z"
   },
   {
    "duration": 6,
    "start_time": "2022-12-18T14:45:34.346Z"
   },
   {
    "duration": 24,
    "start_time": "2022-12-18T14:45:34.354Z"
   },
   {
    "duration": 56,
    "start_time": "2022-12-18T14:45:34.381Z"
   },
   {
    "duration": 29,
    "start_time": "2022-12-18T14:45:34.438Z"
   },
   {
    "duration": 166,
    "start_time": "2022-12-18T14:45:34.472Z"
   },
   {
    "duration": 271,
    "start_time": "2022-12-18T14:45:34.641Z"
   },
   {
    "duration": 187,
    "start_time": "2022-12-18T14:45:34.939Z"
   },
   {
    "duration": 191,
    "start_time": "2022-12-18T14:45:35.134Z"
   },
   {
    "duration": 12,
    "start_time": "2022-12-18T14:45:35.327Z"
   },
   {
    "duration": 20,
    "start_time": "2022-12-18T14:45:35.341Z"
   },
   {
    "duration": 24,
    "start_time": "2022-12-18T14:45:35.364Z"
   },
   {
    "duration": 15,
    "start_time": "2022-12-18T14:45:35.390Z"
   },
   {
    "duration": 24,
    "start_time": "2022-12-18T14:45:35.407Z"
   },
   {
    "duration": 20,
    "start_time": "2022-12-18T14:45:35.433Z"
   },
   {
    "duration": 14,
    "start_time": "2022-12-18T14:45:35.455Z"
   },
   {
    "duration": 45,
    "start_time": "2022-12-18T14:45:35.471Z"
   },
   {
    "duration": 0,
    "start_time": "2022-12-18T14:45:35.518Z"
   },
   {
    "duration": 0,
    "start_time": "2022-12-18T14:45:35.520Z"
   },
   {
    "duration": 0,
    "start_time": "2022-12-18T14:45:35.522Z"
   },
   {
    "duration": 0,
    "start_time": "2022-12-18T14:45:35.524Z"
   },
   {
    "duration": 0,
    "start_time": "2022-12-18T14:45:35.525Z"
   },
   {
    "duration": 0,
    "start_time": "2022-12-18T14:45:35.526Z"
   },
   {
    "duration": 0,
    "start_time": "2022-12-18T14:45:35.528Z"
   },
   {
    "duration": 0,
    "start_time": "2022-12-18T14:45:35.529Z"
   },
   {
    "duration": 0,
    "start_time": "2022-12-18T14:45:35.531Z"
   },
   {
    "duration": 0,
    "start_time": "2022-12-18T14:45:35.533Z"
   },
   {
    "duration": 0,
    "start_time": "2022-12-18T14:45:35.534Z"
   },
   {
    "duration": 0,
    "start_time": "2022-12-18T14:45:35.535Z"
   },
   {
    "duration": 0,
    "start_time": "2022-12-18T14:45:35.536Z"
   },
   {
    "duration": 0,
    "start_time": "2022-12-18T14:45:35.538Z"
   },
   {
    "duration": 0,
    "start_time": "2022-12-18T14:45:35.539Z"
   },
   {
    "duration": 0,
    "start_time": "2022-12-18T14:45:35.541Z"
   },
   {
    "duration": 0,
    "start_time": "2022-12-18T14:45:35.543Z"
   },
   {
    "duration": 0,
    "start_time": "2022-12-18T14:45:35.544Z"
   },
   {
    "duration": 0,
    "start_time": "2022-12-18T14:45:35.545Z"
   },
   {
    "duration": 0,
    "start_time": "2022-12-18T14:45:35.547Z"
   },
   {
    "duration": 0,
    "start_time": "2022-12-18T14:45:35.548Z"
   },
   {
    "duration": 0,
    "start_time": "2022-12-18T14:45:35.549Z"
   },
   {
    "duration": 0,
    "start_time": "2022-12-18T14:45:35.551Z"
   },
   {
    "duration": 0,
    "start_time": "2022-12-18T14:45:35.552Z"
   },
   {
    "duration": 0,
    "start_time": "2022-12-18T14:45:35.553Z"
   },
   {
    "duration": 0,
    "start_time": "2022-12-18T14:45:35.554Z"
   },
   {
    "duration": 0,
    "start_time": "2022-12-18T14:45:35.555Z"
   },
   {
    "duration": 0,
    "start_time": "2022-12-18T14:45:35.557Z"
   },
   {
    "duration": 0,
    "start_time": "2022-12-18T14:45:35.559Z"
   },
   {
    "duration": 0,
    "start_time": "2022-12-18T14:45:35.560Z"
   },
   {
    "duration": 0,
    "start_time": "2022-12-18T14:45:35.561Z"
   },
   {
    "duration": 0,
    "start_time": "2022-12-18T14:45:35.562Z"
   },
   {
    "duration": 0,
    "start_time": "2022-12-18T14:45:35.564Z"
   },
   {
    "duration": 0,
    "start_time": "2022-12-18T14:45:35.565Z"
   },
   {
    "duration": 0,
    "start_time": "2022-12-18T14:45:35.567Z"
   },
   {
    "duration": 0,
    "start_time": "2022-12-18T14:45:35.568Z"
   },
   {
    "duration": 0,
    "start_time": "2022-12-18T14:45:35.570Z"
   },
   {
    "duration": 0,
    "start_time": "2022-12-18T14:45:35.571Z"
   },
   {
    "duration": 0,
    "start_time": "2022-12-18T14:45:35.572Z"
   },
   {
    "duration": 0,
    "start_time": "2022-12-18T14:45:35.573Z"
   },
   {
    "duration": 0,
    "start_time": "2022-12-18T14:45:35.575Z"
   },
   {
    "duration": 0,
    "start_time": "2022-12-18T14:45:35.576Z"
   },
   {
    "duration": 0,
    "start_time": "2022-12-18T14:45:35.636Z"
   },
   {
    "duration": 0,
    "start_time": "2022-12-18T14:45:35.637Z"
   },
   {
    "duration": 0,
    "start_time": "2022-12-18T14:45:35.639Z"
   },
   {
    "duration": 0,
    "start_time": "2022-12-18T14:45:35.641Z"
   },
   {
    "duration": 0,
    "start_time": "2022-12-18T14:45:35.642Z"
   }
  ],
  "kernelspec": {
   "display_name": "Python 3 (ipykernel)",
   "language": "python",
   "name": "python3"
  },
  "language_info": {
   "codemirror_mode": {
    "name": "ipython",
    "version": 3
   },
   "file_extension": ".py",
   "mimetype": "text/x-python",
   "name": "python",
   "nbconvert_exporter": "python",
   "pygments_lexer": "ipython3",
   "version": "3.9.12"
  },
  "toc": {
   "base_numbering": 1,
   "nav_menu": {},
   "number_sections": true,
   "sideBar": true,
   "skip_h1_title": true,
   "title_cell": "Table of Contents",
   "title_sidebar": "Contents",
   "toc_cell": false,
   "toc_position": {
    "height": "calc(100% - 180px)",
    "left": "10px",
    "top": "150px",
    "width": "420.391px"
   },
   "toc_section_display": true,
   "toc_window_display": true
  }
 },
 "nbformat": 4,
 "nbformat_minor": 2
}
