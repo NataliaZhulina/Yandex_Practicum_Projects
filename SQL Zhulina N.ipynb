{
 "cells": [
  {
   "cell_type": "markdown",
   "id": "17d67477",
   "metadata": {},
   "source": [
    "#  Описание проекта\n",
    "\n",
    "__Дано:__ крупный сервис для чтения книг по подписке.\n",
    "\n",
    "__Задача:__ проанализировать базу данных.\n",
    "В ней — информация о книгах, издательствах, авторах, а также пользовательские обзоры книг. Эти данные помогут сформулировать ценностное предложение для нового продукта."
   ]
  },
  {
   "cell_type": "markdown",
   "id": "5656f905",
   "metadata": {},
   "source": [
    "# Описание данных\n",
    "\n",
    "**Таблица `books`**\n",
    "\n",
    "Содержит данные о книгах:\n",
    "\n",
    "- `book_id` — идентификатор книги;\n",
    "- `author_id` — идентификатор автора;\n",
    "- `title` — название книги;\n",
    "- `num_pages` — количество страниц;\n",
    "- `publication_date` — дата публикации книги;\n",
    "- `publisher_id` — идентификатор издателя.\n",
    "\n",
    "**Таблица `authors`**\n",
    "\n",
    "Содержит данные об авторах:\n",
    "\n",
    "- `author_id` — идентификатор автора;\n",
    "- `author` — имя автора.\n",
    "\n",
    "**Таблица `publishers`**\n",
    "\n",
    "Содержит данные об издательствах:\n",
    "\n",
    "- `publisher_id` — идентификатор издательства;\n",
    "- `publisher` — название издательства;\n",
    "\n",
    "**Таблица `ratings`**\n",
    "\n",
    "Содержит данные о пользовательских оценках книг:\n",
    "\n",
    "- `rating_id` — идентификатор оценки;\n",
    "- `book_id` — идентификатор книги;\n",
    "- `username` — имя пользователя, оставившего оценку;\n",
    "- `rating` — оценка книги.\n",
    "\n",
    "**Таблица `reviews`**\n",
    "\n",
    "Содержит данные о пользовательских обзорах на книги:\n",
    "\n",
    "- `review_id` — идентификатор обзора;\n",
    "- `book_id` — идентификатор книги;\n",
    "- `username` — имя пользователя, написавшего обзор;\n",
    "- `text` — текст обзора."
   ]
  },
  {
   "cell_type": "markdown",
   "id": "518b3a9b",
   "metadata": {},
   "source": [
    "# Задания\n",
    "\n",
    "- Посчитайте, сколько книг вышло после 1 января 2000 года;\n",
    "- Для каждой книги посчитайте количество обзоров и среднюю оценку;\n",
    "- Определите издательство, которое выпустило наибольшее число книг толще 50 страниц — так вы исключите из анализа брошюры;\n",
    "- Определите автора с самой высокой средней оценкой книг — учитывайте только книги с 50 и более оценками;\n",
    "- Посчитайте среднее количество обзоров от пользователей, которые поставили больше 50 оценок."
   ]
  },
  {
   "cell_type": "markdown",
   "id": "4ab33dfc",
   "metadata": {},
   "source": [
    "# Содержание\n",
    "\n",
    "1. [Открытие данных, первая информация о данных](#start)\n",
    "\n",
    "\n",
    "2. [Выполнение заданий](#completing_tasks)\n",
    "\n",
    "    2.1 [Посчитайте, сколько книг вышло после 1 января 2000 года](#task1)\n",
    "    \n",
    "    2.2 [Для каждой книги посчитайте количество обзоров и среднюю оценку](#task2)\n",
    "    \n",
    "    2.3 [Определите издательство, которое выпустило наибольшее число книг толще 50 страниц](#task3)\n",
    "    \n",
    "    2.4 [Определите автора с самой высокой средней оценкой книг — учитывайте только книги с 50 и более оценками](#task4)\n",
    "    \n",
    "    2.5 [Посчитайте среднее количество обзоров от пользователей, которые поставили больше 50 оценок.](#task5)\n",
    "    \n",
    "    \n",
    "3. [Выводы](#conclusions)"
   ]
  },
  {
   "cell_type": "markdown",
   "id": "6ecff50e",
   "metadata": {},
   "source": [
    "<a id='start'></a>\n",
    "## Открытие данных "
   ]
  },
  {
   "cell_type": "code",
   "execution_count": 1,
   "id": "5e122fa6",
   "metadata": {},
   "outputs": [],
   "source": [
    "import pandas as pd\n",
    "from sqlalchemy import create_engine"
   ]
  },
  {
   "cell_type": "markdown",
   "id": "dacd81d0",
   "metadata": {},
   "source": [
    "__Подключение к базе данных__"
   ]
  },
  {
   "cell_type": "code",
   "execution_count": 2,
   "id": "ee2d505b",
   "metadata": {},
   "outputs": [],
   "source": [
    "db_config = {'user': 'praktikum_student', \n",
    "'pwd': 'Sdf4$2;d-d30pp', \n",
    "'host': 'rc1b-wcoijxj3yxfsf3fs.mdb.yandexcloud.net',\n",
    "'port': 6432, \n",
    "'db': 'data-analyst-final-project-db'}"
   ]
  },
  {
   "cell_type": "code",
   "execution_count": 3,
   "id": "e0e50ffc",
   "metadata": {},
   "outputs": [],
   "source": [
    "connection_string = 'postgresql://{}:{}@{}:{}/{}'.format(db_config['user'],\n",
    " db_config['pwd'],\n",
    " db_config['host'],\n",
    " db_config['port'],\n",
    " db_config['db'])"
   ]
  },
  {
   "cell_type": "code",
   "execution_count": 4,
   "id": "e8c5de63",
   "metadata": {},
   "outputs": [],
   "source": [
    "engine = create_engine(connection_string, connect_args={'sslmode':'require'}) \n"
   ]
  },
  {
   "cell_type": "markdown",
   "id": "6541fd66",
   "metadata": {},
   "source": [
    "__Таблица books__"
   ]
  },
  {
   "cell_type": "code",
   "execution_count": 5,
   "id": "951f496d",
   "metadata": {},
   "outputs": [],
   "source": [
    "query = '''\n",
    "            SELECT * FROM books\n",
    "        '''"
   ]
  },
  {
   "cell_type": "code",
   "execution_count": 6,
   "id": "3bbbadc1",
   "metadata": {},
   "outputs": [],
   "source": [
    "books = pd.io.sql.read_sql(query, con = engine) "
   ]
  },
  {
   "cell_type": "code",
   "execution_count": 7,
   "id": "7ad55ea8",
   "metadata": {
    "scrolled": true
   },
   "outputs": [
    {
     "data": {
      "text/html": [
       "<div>\n",
       "<style scoped>\n",
       "    .dataframe tbody tr th:only-of-type {\n",
       "        vertical-align: middle;\n",
       "    }\n",
       "\n",
       "    .dataframe tbody tr th {\n",
       "        vertical-align: top;\n",
       "    }\n",
       "\n",
       "    .dataframe thead th {\n",
       "        text-align: right;\n",
       "    }\n",
       "</style>\n",
       "<table border=\"1\" class=\"dataframe\">\n",
       "  <thead>\n",
       "    <tr style=\"text-align: right;\">\n",
       "      <th></th>\n",
       "      <th>book_id</th>\n",
       "      <th>author_id</th>\n",
       "      <th>title</th>\n",
       "      <th>num_pages</th>\n",
       "      <th>publication_date</th>\n",
       "      <th>publisher_id</th>\n",
       "    </tr>\n",
       "  </thead>\n",
       "  <tbody>\n",
       "    <tr>\n",
       "      <th>0</th>\n",
       "      <td>1</td>\n",
       "      <td>546</td>\n",
       "      <td>'Salem's Lot</td>\n",
       "      <td>594</td>\n",
       "      <td>2005-11-01</td>\n",
       "      <td>93</td>\n",
       "    </tr>\n",
       "    <tr>\n",
       "      <th>1</th>\n",
       "      <td>2</td>\n",
       "      <td>465</td>\n",
       "      <td>1 000 Places to See Before You Die</td>\n",
       "      <td>992</td>\n",
       "      <td>2003-05-22</td>\n",
       "      <td>336</td>\n",
       "    </tr>\n",
       "    <tr>\n",
       "      <th>2</th>\n",
       "      <td>3</td>\n",
       "      <td>407</td>\n",
       "      <td>13 Little Blue Envelopes (Little Blue Envelope...</td>\n",
       "      <td>322</td>\n",
       "      <td>2010-12-21</td>\n",
       "      <td>135</td>\n",
       "    </tr>\n",
       "    <tr>\n",
       "      <th>3</th>\n",
       "      <td>4</td>\n",
       "      <td>82</td>\n",
       "      <td>1491: New Revelations of the Americas Before C...</td>\n",
       "      <td>541</td>\n",
       "      <td>2006-10-10</td>\n",
       "      <td>309</td>\n",
       "    </tr>\n",
       "    <tr>\n",
       "      <th>4</th>\n",
       "      <td>5</td>\n",
       "      <td>125</td>\n",
       "      <td>1776</td>\n",
       "      <td>386</td>\n",
       "      <td>2006-07-04</td>\n",
       "      <td>268</td>\n",
       "    </tr>\n",
       "  </tbody>\n",
       "</table>\n",
       "</div>"
      ],
      "text/plain": [
       "   book_id  author_id                                              title  \\\n",
       "0        1        546                                       'Salem's Lot   \n",
       "1        2        465                 1 000 Places to See Before You Die   \n",
       "2        3        407  13 Little Blue Envelopes (Little Blue Envelope...   \n",
       "3        4         82  1491: New Revelations of the Americas Before C...   \n",
       "4        5        125                                               1776   \n",
       "\n",
       "   num_pages publication_date  publisher_id  \n",
       "0        594       2005-11-01            93  \n",
       "1        992       2003-05-22           336  \n",
       "2        322       2010-12-21           135  \n",
       "3        541       2006-10-10           309  \n",
       "4        386       2006-07-04           268  "
      ]
     },
     "execution_count": 7,
     "metadata": {},
     "output_type": "execute_result"
    }
   ],
   "source": [
    "books.head()"
   ]
  },
  {
   "cell_type": "code",
   "execution_count": 8,
   "id": "131355ad",
   "metadata": {
    "scrolled": true
   },
   "outputs": [
    {
     "name": "stdout",
     "output_type": "stream",
     "text": [
      "<class 'pandas.core.frame.DataFrame'>\n",
      "RangeIndex: 1000 entries, 0 to 999\n",
      "Data columns (total 6 columns):\n",
      " #   Column            Non-Null Count  Dtype \n",
      "---  ------            --------------  ----- \n",
      " 0   book_id           1000 non-null   int64 \n",
      " 1   author_id         1000 non-null   int64 \n",
      " 2   title             1000 non-null   object\n",
      " 3   num_pages         1000 non-null   int64 \n",
      " 4   publication_date  1000 non-null   object\n",
      " 5   publisher_id      1000 non-null   int64 \n",
      "dtypes: int64(4), object(2)\n",
      "memory usage: 47.0+ KB\n"
     ]
    }
   ],
   "source": [
    "books.info()"
   ]
  },
  {
   "cell_type": "markdown",
   "id": "fd185398",
   "metadata": {},
   "source": [
    "__Таблица authors__"
   ]
  },
  {
   "cell_type": "code",
   "execution_count": 9,
   "id": "99a26077",
   "metadata": {},
   "outputs": [],
   "source": [
    "query = '''\n",
    "            SELECT *\n",
    "            FROM authors\n",
    "        '''"
   ]
  },
  {
   "cell_type": "code",
   "execution_count": 10,
   "id": "7e3bb89d",
   "metadata": {
    "scrolled": true
   },
   "outputs": [
    {
     "data": {
      "text/html": [
       "<div>\n",
       "<style scoped>\n",
       "    .dataframe tbody tr th:only-of-type {\n",
       "        vertical-align: middle;\n",
       "    }\n",
       "\n",
       "    .dataframe tbody tr th {\n",
       "        vertical-align: top;\n",
       "    }\n",
       "\n",
       "    .dataframe thead th {\n",
       "        text-align: right;\n",
       "    }\n",
       "</style>\n",
       "<table border=\"1\" class=\"dataframe\">\n",
       "  <thead>\n",
       "    <tr style=\"text-align: right;\">\n",
       "      <th></th>\n",
       "      <th>author_id</th>\n",
       "      <th>author</th>\n",
       "    </tr>\n",
       "  </thead>\n",
       "  <tbody>\n",
       "    <tr>\n",
       "      <th>0</th>\n",
       "      <td>1</td>\n",
       "      <td>A.S. Byatt</td>\n",
       "    </tr>\n",
       "    <tr>\n",
       "      <th>1</th>\n",
       "      <td>2</td>\n",
       "      <td>Aesop/Laura Harris/Laura Gibbs</td>\n",
       "    </tr>\n",
       "    <tr>\n",
       "      <th>2</th>\n",
       "      <td>3</td>\n",
       "      <td>Agatha Christie</td>\n",
       "    </tr>\n",
       "    <tr>\n",
       "      <th>3</th>\n",
       "      <td>4</td>\n",
       "      <td>Alan Brennert</td>\n",
       "    </tr>\n",
       "    <tr>\n",
       "      <th>4</th>\n",
       "      <td>5</td>\n",
       "      <td>Alan Moore/David   Lloyd</td>\n",
       "    </tr>\n",
       "  </tbody>\n",
       "</table>\n",
       "</div>"
      ],
      "text/plain": [
       "   author_id                          author\n",
       "0          1                      A.S. Byatt\n",
       "1          2  Aesop/Laura Harris/Laura Gibbs\n",
       "2          3                 Agatha Christie\n",
       "3          4                   Alan Brennert\n",
       "4          5        Alan Moore/David   Lloyd"
      ]
     },
     "execution_count": 10,
     "metadata": {},
     "output_type": "execute_result"
    }
   ],
   "source": [
    "authors = pd.io.sql.read_sql(query, con = engine)\n",
    "authors.head()"
   ]
  },
  {
   "cell_type": "code",
   "execution_count": 11,
   "id": "84dee78d",
   "metadata": {
    "scrolled": true
   },
   "outputs": [
    {
     "name": "stdout",
     "output_type": "stream",
     "text": [
      "<class 'pandas.core.frame.DataFrame'>\n",
      "RangeIndex: 636 entries, 0 to 635\n",
      "Data columns (total 2 columns):\n",
      " #   Column     Non-Null Count  Dtype \n",
      "---  ------     --------------  ----- \n",
      " 0   author_id  636 non-null    int64 \n",
      " 1   author     636 non-null    object\n",
      "dtypes: int64(1), object(1)\n",
      "memory usage: 10.1+ KB\n"
     ]
    }
   ],
   "source": [
    "authors.info()"
   ]
  },
  {
   "cell_type": "markdown",
   "id": "c00e5c79",
   "metadata": {},
   "source": [
    "__Таблица publishers__"
   ]
  },
  {
   "cell_type": "code",
   "execution_count": 12,
   "id": "803f1659",
   "metadata": {},
   "outputs": [],
   "source": [
    "query = '''\n",
    "            SELECT * FROM publishers\n",
    "        '''"
   ]
  },
  {
   "cell_type": "code",
   "execution_count": 13,
   "id": "915b0580",
   "metadata": {
    "scrolled": true
   },
   "outputs": [
    {
     "data": {
      "text/html": [
       "<div>\n",
       "<style scoped>\n",
       "    .dataframe tbody tr th:only-of-type {\n",
       "        vertical-align: middle;\n",
       "    }\n",
       "\n",
       "    .dataframe tbody tr th {\n",
       "        vertical-align: top;\n",
       "    }\n",
       "\n",
       "    .dataframe thead th {\n",
       "        text-align: right;\n",
       "    }\n",
       "</style>\n",
       "<table border=\"1\" class=\"dataframe\">\n",
       "  <thead>\n",
       "    <tr style=\"text-align: right;\">\n",
       "      <th></th>\n",
       "      <th>publisher_id</th>\n",
       "      <th>publisher</th>\n",
       "    </tr>\n",
       "  </thead>\n",
       "  <tbody>\n",
       "    <tr>\n",
       "      <th>0</th>\n",
       "      <td>1</td>\n",
       "      <td>Ace</td>\n",
       "    </tr>\n",
       "    <tr>\n",
       "      <th>1</th>\n",
       "      <td>2</td>\n",
       "      <td>Ace Book</td>\n",
       "    </tr>\n",
       "    <tr>\n",
       "      <th>2</th>\n",
       "      <td>3</td>\n",
       "      <td>Ace Books</td>\n",
       "    </tr>\n",
       "    <tr>\n",
       "      <th>3</th>\n",
       "      <td>4</td>\n",
       "      <td>Ace Hardcover</td>\n",
       "    </tr>\n",
       "    <tr>\n",
       "      <th>4</th>\n",
       "      <td>5</td>\n",
       "      <td>Addison Wesley Publishing Company</td>\n",
       "    </tr>\n",
       "  </tbody>\n",
       "</table>\n",
       "</div>"
      ],
      "text/plain": [
       "   publisher_id                          publisher\n",
       "0             1                                Ace\n",
       "1             2                           Ace Book\n",
       "2             3                          Ace Books\n",
       "3             4                      Ace Hardcover\n",
       "4             5  Addison Wesley Publishing Company"
      ]
     },
     "execution_count": 13,
     "metadata": {},
     "output_type": "execute_result"
    }
   ],
   "source": [
    "publishers = pd.io.sql.read_sql(query, con = engine)\n",
    "publishers.head()"
   ]
  },
  {
   "cell_type": "code",
   "execution_count": 14,
   "id": "95d08fdd",
   "metadata": {
    "scrolled": false
   },
   "outputs": [
    {
     "name": "stdout",
     "output_type": "stream",
     "text": [
      "<class 'pandas.core.frame.DataFrame'>\n",
      "RangeIndex: 340 entries, 0 to 339\n",
      "Data columns (total 2 columns):\n",
      " #   Column        Non-Null Count  Dtype \n",
      "---  ------        --------------  ----- \n",
      " 0   publisher_id  340 non-null    int64 \n",
      " 1   publisher     340 non-null    object\n",
      "dtypes: int64(1), object(1)\n",
      "memory usage: 5.4+ KB\n"
     ]
    }
   ],
   "source": [
    "publishers.info()"
   ]
  },
  {
   "cell_type": "markdown",
   "id": "32137258",
   "metadata": {},
   "source": [
    "__Таблица ratings__"
   ]
  },
  {
   "cell_type": "code",
   "execution_count": 15,
   "id": "c300ccaa",
   "metadata": {},
   "outputs": [],
   "source": [
    "query = '''\n",
    "            SELECT * FROM ratings\n",
    "        '''"
   ]
  },
  {
   "cell_type": "code",
   "execution_count": 16,
   "id": "896b8f74",
   "metadata": {
    "scrolled": false
   },
   "outputs": [
    {
     "data": {
      "text/html": [
       "<div>\n",
       "<style scoped>\n",
       "    .dataframe tbody tr th:only-of-type {\n",
       "        vertical-align: middle;\n",
       "    }\n",
       "\n",
       "    .dataframe tbody tr th {\n",
       "        vertical-align: top;\n",
       "    }\n",
       "\n",
       "    .dataframe thead th {\n",
       "        text-align: right;\n",
       "    }\n",
       "</style>\n",
       "<table border=\"1\" class=\"dataframe\">\n",
       "  <thead>\n",
       "    <tr style=\"text-align: right;\">\n",
       "      <th></th>\n",
       "      <th>rating_id</th>\n",
       "      <th>book_id</th>\n",
       "      <th>username</th>\n",
       "      <th>rating</th>\n",
       "    </tr>\n",
       "  </thead>\n",
       "  <tbody>\n",
       "    <tr>\n",
       "      <th>0</th>\n",
       "      <td>1</td>\n",
       "      <td>1</td>\n",
       "      <td>ryanfranco</td>\n",
       "      <td>4</td>\n",
       "    </tr>\n",
       "    <tr>\n",
       "      <th>1</th>\n",
       "      <td>2</td>\n",
       "      <td>1</td>\n",
       "      <td>grantpatricia</td>\n",
       "      <td>2</td>\n",
       "    </tr>\n",
       "    <tr>\n",
       "      <th>2</th>\n",
       "      <td>3</td>\n",
       "      <td>1</td>\n",
       "      <td>brandtandrea</td>\n",
       "      <td>5</td>\n",
       "    </tr>\n",
       "    <tr>\n",
       "      <th>3</th>\n",
       "      <td>4</td>\n",
       "      <td>2</td>\n",
       "      <td>lorichen</td>\n",
       "      <td>3</td>\n",
       "    </tr>\n",
       "    <tr>\n",
       "      <th>4</th>\n",
       "      <td>5</td>\n",
       "      <td>2</td>\n",
       "      <td>mariokeller</td>\n",
       "      <td>2</td>\n",
       "    </tr>\n",
       "  </tbody>\n",
       "</table>\n",
       "</div>"
      ],
      "text/plain": [
       "   rating_id  book_id       username  rating\n",
       "0          1        1     ryanfranco       4\n",
       "1          2        1  grantpatricia       2\n",
       "2          3        1   brandtandrea       5\n",
       "3          4        2       lorichen       3\n",
       "4          5        2    mariokeller       2"
      ]
     },
     "execution_count": 16,
     "metadata": {},
     "output_type": "execute_result"
    }
   ],
   "source": [
    "ratings = pd.io.sql.read_sql(query, con = engine)\n",
    "ratings.head()"
   ]
  },
  {
   "cell_type": "code",
   "execution_count": 17,
   "id": "866ddb64",
   "metadata": {
    "scrolled": true
   },
   "outputs": [
    {
     "name": "stdout",
     "output_type": "stream",
     "text": [
      "<class 'pandas.core.frame.DataFrame'>\n",
      "RangeIndex: 6456 entries, 0 to 6455\n",
      "Data columns (total 4 columns):\n",
      " #   Column     Non-Null Count  Dtype \n",
      "---  ------     --------------  ----- \n",
      " 0   rating_id  6456 non-null   int64 \n",
      " 1   book_id    6456 non-null   int64 \n",
      " 2   username   6456 non-null   object\n",
      " 3   rating     6456 non-null   int64 \n",
      "dtypes: int64(3), object(1)\n",
      "memory usage: 201.9+ KB\n"
     ]
    }
   ],
   "source": [
    "ratings.info()"
   ]
  },
  {
   "cell_type": "markdown",
   "id": "aa18987e",
   "metadata": {},
   "source": [
    "__Таблица reviews__"
   ]
  },
  {
   "cell_type": "code",
   "execution_count": 18,
   "id": "ecccd4ad",
   "metadata": {},
   "outputs": [],
   "source": [
    "query = '''\n",
    "            SELECT * FROM reviews\n",
    "        '''"
   ]
  },
  {
   "cell_type": "code",
   "execution_count": 19,
   "id": "208dc1e0",
   "metadata": {
    "scrolled": false
   },
   "outputs": [
    {
     "data": {
      "text/html": [
       "<div>\n",
       "<style scoped>\n",
       "    .dataframe tbody tr th:only-of-type {\n",
       "        vertical-align: middle;\n",
       "    }\n",
       "\n",
       "    .dataframe tbody tr th {\n",
       "        vertical-align: top;\n",
       "    }\n",
       "\n",
       "    .dataframe thead th {\n",
       "        text-align: right;\n",
       "    }\n",
       "</style>\n",
       "<table border=\"1\" class=\"dataframe\">\n",
       "  <thead>\n",
       "    <tr style=\"text-align: right;\">\n",
       "      <th></th>\n",
       "      <th>review_id</th>\n",
       "      <th>book_id</th>\n",
       "      <th>username</th>\n",
       "      <th>text</th>\n",
       "    </tr>\n",
       "  </thead>\n",
       "  <tbody>\n",
       "    <tr>\n",
       "      <th>0</th>\n",
       "      <td>1</td>\n",
       "      <td>1</td>\n",
       "      <td>brandtandrea</td>\n",
       "      <td>Mention society tell send professor analysis. ...</td>\n",
       "    </tr>\n",
       "    <tr>\n",
       "      <th>1</th>\n",
       "      <td>2</td>\n",
       "      <td>1</td>\n",
       "      <td>ryanfranco</td>\n",
       "      <td>Foot glass pretty audience hit themselves. Amo...</td>\n",
       "    </tr>\n",
       "    <tr>\n",
       "      <th>2</th>\n",
       "      <td>3</td>\n",
       "      <td>2</td>\n",
       "      <td>lorichen</td>\n",
       "      <td>Listen treat keep worry. Miss husband tax but ...</td>\n",
       "    </tr>\n",
       "    <tr>\n",
       "      <th>3</th>\n",
       "      <td>4</td>\n",
       "      <td>3</td>\n",
       "      <td>johnsonamanda</td>\n",
       "      <td>Finally month interesting blue could nature cu...</td>\n",
       "    </tr>\n",
       "    <tr>\n",
       "      <th>4</th>\n",
       "      <td>5</td>\n",
       "      <td>3</td>\n",
       "      <td>scotttamara</td>\n",
       "      <td>Nation purpose heavy give wait song will. List...</td>\n",
       "    </tr>\n",
       "  </tbody>\n",
       "</table>\n",
       "</div>"
      ],
      "text/plain": [
       "   review_id  book_id       username  \\\n",
       "0          1        1   brandtandrea   \n",
       "1          2        1     ryanfranco   \n",
       "2          3        2       lorichen   \n",
       "3          4        3  johnsonamanda   \n",
       "4          5        3    scotttamara   \n",
       "\n",
       "                                                text  \n",
       "0  Mention society tell send professor analysis. ...  \n",
       "1  Foot glass pretty audience hit themselves. Amo...  \n",
       "2  Listen treat keep worry. Miss husband tax but ...  \n",
       "3  Finally month interesting blue could nature cu...  \n",
       "4  Nation purpose heavy give wait song will. List...  "
      ]
     },
     "execution_count": 19,
     "metadata": {},
     "output_type": "execute_result"
    }
   ],
   "source": [
    "reviews = pd.io.sql.read_sql(query, con = engine)\n",
    "reviews.head()"
   ]
  },
  {
   "cell_type": "code",
   "execution_count": 20,
   "id": "617793f7",
   "metadata": {},
   "outputs": [
    {
     "name": "stdout",
     "output_type": "stream",
     "text": [
      "<class 'pandas.core.frame.DataFrame'>\n",
      "RangeIndex: 2793 entries, 0 to 2792\n",
      "Data columns (total 4 columns):\n",
      " #   Column     Non-Null Count  Dtype \n",
      "---  ------     --------------  ----- \n",
      " 0   review_id  2793 non-null   int64 \n",
      " 1   book_id    2793 non-null   int64 \n",
      " 2   username   2793 non-null   object\n",
      " 3   text       2793 non-null   object\n",
      "dtypes: int64(2), object(2)\n",
      "memory usage: 87.4+ KB\n"
     ]
    }
   ],
   "source": [
    "reviews.info()"
   ]
  },
  {
   "cell_type": "markdown",
   "id": "33ef87b1",
   "metadata": {},
   "source": [
    "<a id='completing_tasks'></a>\n",
    "## Выполнение заданий "
   ]
  },
  {
   "cell_type": "markdown",
   "id": "9e871bf1",
   "metadata": {},
   "source": [
    "<a id='task1'></a>\n",
    "### Посчитайте, сколько книг вышло после 1 января 2000 года"
   ]
  },
  {
   "cell_type": "code",
   "execution_count": 21,
   "id": "8045a38e",
   "metadata": {},
   "outputs": [
    {
     "data": {
      "text/html": [
       "<div>\n",
       "<style scoped>\n",
       "    .dataframe tbody tr th:only-of-type {\n",
       "        vertical-align: middle;\n",
       "    }\n",
       "\n",
       "    .dataframe tbody tr th {\n",
       "        vertical-align: top;\n",
       "    }\n",
       "\n",
       "    .dataframe thead th {\n",
       "        text-align: right;\n",
       "    }\n",
       "</style>\n",
       "<table border=\"1\" class=\"dataframe\">\n",
       "  <thead>\n",
       "    <tr style=\"text-align: right;\">\n",
       "      <th></th>\n",
       "      <th>count</th>\n",
       "    </tr>\n",
       "  </thead>\n",
       "  <tbody>\n",
       "    <tr>\n",
       "      <th>0</th>\n",
       "      <td>819</td>\n",
       "    </tr>\n",
       "  </tbody>\n",
       "</table>\n",
       "</div>"
      ],
      "text/plain": [
       "   count\n",
       "0    819"
      ]
     },
     "execution_count": 21,
     "metadata": {},
     "output_type": "execute_result"
    }
   ],
   "source": [
    "query = '''\n",
    "            SELECT COUNT(book_id) \n",
    "            FROM books\n",
    "            WHERE publication_date::date > '2000-01-01'\n",
    "        '''\n",
    "pd.io.sql.read_sql(query, con = engine)"
   ]
  },
  {
   "cell_type": "markdown",
   "id": "bf423f05",
   "metadata": {},
   "source": [
    "В период после 1 января 2000 года вышло 819 книг"
   ]
  },
  {
   "cell_type": "markdown",
   "id": "9c6b4531",
   "metadata": {},
   "source": [
    "<a id='task2'></a>\n",
    "## Для каждой книги посчитайте количество обзоров и среднюю оценку;"
   ]
  },
  {
   "cell_type": "code",
   "execution_count": 22,
   "id": "c53d22c6",
   "metadata": {
    "scrolled": false
   },
   "outputs": [
    {
     "data": {
      "text/html": [
       "<div>\n",
       "<style scoped>\n",
       "    .dataframe tbody tr th:only-of-type {\n",
       "        vertical-align: middle;\n",
       "    }\n",
       "\n",
       "    .dataframe tbody tr th {\n",
       "        vertical-align: top;\n",
       "    }\n",
       "\n",
       "    .dataframe thead th {\n",
       "        text-align: right;\n",
       "    }\n",
       "</style>\n",
       "<table border=\"1\" class=\"dataframe\">\n",
       "  <thead>\n",
       "    <tr style=\"text-align: right;\">\n",
       "      <th></th>\n",
       "      <th>title</th>\n",
       "      <th>book_id</th>\n",
       "      <th>avg_rating</th>\n",
       "      <th>review_count</th>\n",
       "    </tr>\n",
       "  </thead>\n",
       "  <tbody>\n",
       "    <tr>\n",
       "      <th>0</th>\n",
       "      <td>The Body in the Library (Miss Marple  #3)</td>\n",
       "      <td>652</td>\n",
       "      <td>4.500000</td>\n",
       "      <td>2.0</td>\n",
       "    </tr>\n",
       "    <tr>\n",
       "      <th>1</th>\n",
       "      <td>Galápagos</td>\n",
       "      <td>273</td>\n",
       "      <td>4.500000</td>\n",
       "      <td>2.0</td>\n",
       "    </tr>\n",
       "    <tr>\n",
       "      <th>2</th>\n",
       "      <td>A Tree Grows in Brooklyn</td>\n",
       "      <td>51</td>\n",
       "      <td>4.250000</td>\n",
       "      <td>5.0</td>\n",
       "    </tr>\n",
       "    <tr>\n",
       "      <th>3</th>\n",
       "      <td>Undaunted Courage: The Pioneering First Missio...</td>\n",
       "      <td>951</td>\n",
       "      <td>4.000000</td>\n",
       "      <td>2.0</td>\n",
       "    </tr>\n",
       "    <tr>\n",
       "      <th>4</th>\n",
       "      <td>The Prophet</td>\n",
       "      <td>839</td>\n",
       "      <td>4.285714</td>\n",
       "      <td>4.0</td>\n",
       "    </tr>\n",
       "    <tr>\n",
       "      <th>...</th>\n",
       "      <td>...</td>\n",
       "      <td>...</td>\n",
       "      <td>...</td>\n",
       "      <td>...</td>\n",
       "    </tr>\n",
       "    <tr>\n",
       "      <th>995</th>\n",
       "      <td>The Cat in the Hat and Other Dr. Seuss Favorites</td>\n",
       "      <td>672</td>\n",
       "      <td>5.000000</td>\n",
       "      <td>NaN</td>\n",
       "    </tr>\n",
       "    <tr>\n",
       "      <th>996</th>\n",
       "      <td>Anne Rice's The Vampire Lestat: A Graphic Novel</td>\n",
       "      <td>83</td>\n",
       "      <td>3.666667</td>\n",
       "      <td>NaN</td>\n",
       "    </tr>\n",
       "    <tr>\n",
       "      <th>997</th>\n",
       "      <td>Essential Tales and Poems</td>\n",
       "      <td>221</td>\n",
       "      <td>4.000000</td>\n",
       "      <td>NaN</td>\n",
       "    </tr>\n",
       "    <tr>\n",
       "      <th>998</th>\n",
       "      <td>Leonardo's Notebooks</td>\n",
       "      <td>387</td>\n",
       "      <td>4.000000</td>\n",
       "      <td>NaN</td>\n",
       "    </tr>\n",
       "    <tr>\n",
       "      <th>999</th>\n",
       "      <td>The Natural Way to Draw</td>\n",
       "      <td>808</td>\n",
       "      <td>3.000000</td>\n",
       "      <td>NaN</td>\n",
       "    </tr>\n",
       "  </tbody>\n",
       "</table>\n",
       "<p>1000 rows × 4 columns</p>\n",
       "</div>"
      ],
      "text/plain": [
       "                                                 title  book_id  avg_rating  \\\n",
       "0            The Body in the Library (Miss Marple  #3)      652    4.500000   \n",
       "1                                            Galápagos      273    4.500000   \n",
       "2                             A Tree Grows in Brooklyn       51    4.250000   \n",
       "3    Undaunted Courage: The Pioneering First Missio...      951    4.000000   \n",
       "4                                          The Prophet      839    4.285714   \n",
       "..                                                 ...      ...         ...   \n",
       "995   The Cat in the Hat and Other Dr. Seuss Favorites      672    5.000000   \n",
       "996    Anne Rice's The Vampire Lestat: A Graphic Novel       83    3.666667   \n",
       "997                          Essential Tales and Poems      221    4.000000   \n",
       "998                               Leonardo's Notebooks      387    4.000000   \n",
       "999                            The Natural Way to Draw      808    3.000000   \n",
       "\n",
       "     review_count  \n",
       "0             2.0  \n",
       "1             2.0  \n",
       "2             5.0  \n",
       "3             2.0  \n",
       "4             4.0  \n",
       "..            ...  \n",
       "995           NaN  \n",
       "996           NaN  \n",
       "997           NaN  \n",
       "998           NaN  \n",
       "999           NaN  \n",
       "\n",
       "[1000 rows x 4 columns]"
      ]
     },
     "execution_count": 22,
     "metadata": {},
     "output_type": "execute_result"
    }
   ],
   "source": [
    "query = '''\n",
    "            WITH rat AS (SELECT book_id, AVG(rating) avg_rating \n",
    "                        FROM ratings \n",
    "                        GROUP BY book_id),\n",
    "                rev AS (SELECT book_id, COUNT(review_id) review_count \n",
    "                         FROM reviews \n",
    "                         GROUP BY book_id)\n",
    "            SELECT b.title, b.book_id, avg_rating, review_count\n",
    "            FROM books AS b\n",
    "            LEFT JOIN  rat ON b.book_id=rat.book_id\n",
    "            LEFT JOIN  rev ON b.book_id=rev.book_id\n",
    "            \n",
    "        '''\n",
    "pd.io.sql.read_sql(query, con = engine)"
   ]
  },
  {
   "cell_type": "markdown",
   "id": "8c22abcf",
   "metadata": {},
   "source": [
    "Посчитали количество обзоров и среднюю оценку для каждой книги. На некоторые книги отсутствуют обзоры."
   ]
  },
  {
   "cell_type": "markdown",
   "id": "635c6165",
   "metadata": {},
   "source": [
    "<a id='task3'></a>\n",
    "### Определите издательство, которое выпустило наибольшее число книг толще 50 страниц"
   ]
  },
  {
   "cell_type": "code",
   "execution_count": 23,
   "id": "a55754b0",
   "metadata": {},
   "outputs": [
    {
     "data": {
      "text/html": [
       "<div>\n",
       "<style scoped>\n",
       "    .dataframe tbody tr th:only-of-type {\n",
       "        vertical-align: middle;\n",
       "    }\n",
       "\n",
       "    .dataframe tbody tr th {\n",
       "        vertical-align: top;\n",
       "    }\n",
       "\n",
       "    .dataframe thead th {\n",
       "        text-align: right;\n",
       "    }\n",
       "</style>\n",
       "<table border=\"1\" class=\"dataframe\">\n",
       "  <thead>\n",
       "    <tr style=\"text-align: right;\">\n",
       "      <th></th>\n",
       "      <th>publisher</th>\n",
       "      <th>books</th>\n",
       "      <th>publisher_id</th>\n",
       "    </tr>\n",
       "  </thead>\n",
       "  <tbody>\n",
       "    <tr>\n",
       "      <th>0</th>\n",
       "      <td>Penguin Books</td>\n",
       "      <td>42</td>\n",
       "      <td>212</td>\n",
       "    </tr>\n",
       "  </tbody>\n",
       "</table>\n",
       "</div>"
      ],
      "text/plain": [
       "       publisher  books  publisher_id\n",
       "0  Penguin Books     42           212"
      ]
     },
     "execution_count": 23,
     "metadata": {},
     "output_type": "execute_result"
    }
   ],
   "source": [
    "query = '''\n",
    "            WITH b as (SELECT \n",
    "                              COUNT(book_id) AS books , publisher_id\n",
    "                        FROM books\n",
    "                        WHERE num_pages > 50\n",
    "                        GROUP BY publisher_id)\n",
    "            SELECT \n",
    "                   publisher,  books, p.publisher_id as publisher_id\n",
    "            FROM b\n",
    "            LEFT JOIN publishers AS p  ON b.publisher_id=p.publisher_id\n",
    "            ORDER BY books DESC\n",
    "            LIMIT 1\n",
    "        '''\n",
    "       \n",
    "pd.io.sql.read_sql(query, con = engine)"
   ]
  },
  {
   "cell_type": "markdown",
   "id": "c2d6dcfe",
   "metadata": {},
   "source": [
    "Издательство Penguin Books выпустило максимальное количество книг с количеством страниц больше 50"
   ]
  },
  {
   "cell_type": "markdown",
   "id": "1cfe5028",
   "metadata": {},
   "source": [
    "<a id='task4'></a>\n",
    "### Определите автора с самой высокой средней оценкой книг — учитывайте только книги с 50 и более оценками"
   ]
  },
  {
   "cell_type": "code",
   "execution_count": 24,
   "id": "1722fa28",
   "metadata": {},
   "outputs": [
    {
     "data": {
      "text/html": [
       "<div>\n",
       "<style scoped>\n",
       "    .dataframe tbody tr th:only-of-type {\n",
       "        vertical-align: middle;\n",
       "    }\n",
       "\n",
       "    .dataframe tbody tr th {\n",
       "        vertical-align: top;\n",
       "    }\n",
       "\n",
       "    .dataframe thead th {\n",
       "        text-align: right;\n",
       "    }\n",
       "</style>\n",
       "<table border=\"1\" class=\"dataframe\">\n",
       "  <thead>\n",
       "    <tr style=\"text-align: right;\">\n",
       "      <th></th>\n",
       "      <th>author</th>\n",
       "      <th>avg</th>\n",
       "    </tr>\n",
       "  </thead>\n",
       "  <tbody>\n",
       "    <tr>\n",
       "      <th>0</th>\n",
       "      <td>J.K. Rowling/Mary GrandPré</td>\n",
       "      <td>4.283844</td>\n",
       "    </tr>\n",
       "  </tbody>\n",
       "</table>\n",
       "</div>"
      ],
      "text/plain": [
       "                       author       avg\n",
       "0  J.K. Rowling/Mary GrandPré  4.283844"
      ]
     },
     "execution_count": 24,
     "metadata": {},
     "output_type": "execute_result"
    }
   ],
   "source": [
    "query = '''\n",
    "            WITH rat AS (SELECT\n",
    "                                book_id, COUNT(rating_id) AS count_rating, AVG(rating) AS avg_rating \n",
    "\n",
    "                        FROM ratings\n",
    "                        GROUP BY book_id\n",
    "                        HAVING COUNT(rating_id)>50)\n",
    "            SELECT \n",
    "                    author, AVG(avg_rating)\n",
    "            FROM books AS b\n",
    "            JOIN rat ON rat.book_id=b.book_id\n",
    "            JOIN authors as a ON b.author_id=a.author_id\n",
    "            GROUP BY author\n",
    "            ORDER BY AVG(avg_rating) DESC\n",
    "            LIMIT 1\n",
    "\n",
    "        '''\n",
    "       \n",
    "pd.io.sql.read_sql(query, con = engine)"
   ]
  },
  {
   "cell_type": "markdown",
   "id": "6fb31ae8",
   "metadata": {},
   "source": [
    "`Joanne Kathleen Rowling`в соавторстве с иллюстратором `Mary GrandPré` автор с самой высокой средней оценкой книг из книг с больше 50-ю оценками."
   ]
  },
  {
   "cell_type": "markdown",
   "id": "ebaa40df",
   "metadata": {},
   "source": [
    "<a id='task5'></a>\n",
    "### Посчитайте среднее количество обзоров от пользователей, которые поставили больше 50 оценок."
   ]
  },
  {
   "cell_type": "code",
   "execution_count": 25,
   "id": "b83594db",
   "metadata": {
    "scrolled": true
   },
   "outputs": [
    {
     "data": {
      "text/html": [
       "<div>\n",
       "<style scoped>\n",
       "    .dataframe tbody tr th:only-of-type {\n",
       "        vertical-align: middle;\n",
       "    }\n",
       "\n",
       "    .dataframe tbody tr th {\n",
       "        vertical-align: top;\n",
       "    }\n",
       "\n",
       "    .dataframe thead th {\n",
       "        text-align: right;\n",
       "    }\n",
       "</style>\n",
       "<table border=\"1\" class=\"dataframe\">\n",
       "  <thead>\n",
       "    <tr style=\"text-align: right;\">\n",
       "      <th></th>\n",
       "      <th>avg</th>\n",
       "    </tr>\n",
       "  </thead>\n",
       "  <tbody>\n",
       "    <tr>\n",
       "      <th>0</th>\n",
       "      <td>24.333333</td>\n",
       "    </tr>\n",
       "  </tbody>\n",
       "</table>\n",
       "</div>"
      ],
      "text/plain": [
       "         avg\n",
       "0  24.333333"
      ]
     },
     "execution_count": 25,
     "metadata": {},
     "output_type": "execute_result"
    }
   ],
   "source": [
    "query = ''' WITH a as(SELECT\n",
    "                              COUNT(review_id) AS count,\n",
    "                              username\n",
    "                         FROM reviews \n",
    "                         GROUP BY username),\n",
    "                 b as (SELECT\n",
    "                              username, \n",
    "                              COUNT(rating_id)\n",
    "                        FROM ratings\n",
    "                        GROUP BY username\n",
    "                        HAVING count(rating_id)>50)\n",
    "            SELECT AVG(a.count)\n",
    "            FROM a\n",
    "            INNER JOIN b ON a.username=b.username\n",
    "                         \n",
    "  '''\n",
    "pd.io.sql.read_sql(query, con = engine)                        "
   ]
  },
  {
   "cell_type": "markdown",
   "id": "9af9e1ac",
   "metadata": {},
   "source": [
    "В среднем 24 обзора пишут пользователи, которые поставили больше 50 оценок"
   ]
  },
  {
   "cell_type": "markdown",
   "id": "3f576e8e",
   "metadata": {},
   "source": [
    "<a id='conclusions'></a>\n",
    "## Выводы"
   ]
  },
  {
   "cell_type": "markdown",
   "id": "851078c8",
   "metadata": {},
   "source": [
    "В нашем распоряжении было 5 таблиц:\n",
    "\n",
    "- books - содержит 1000 строк и 6 столбцов, содержит данные о книгах;\n",
    "- authors - содержит 636 строк и 2 столбца, содержит данные об авторах;\n",
    "- publishers - содержит 340 строк, 2 столбца, содержит данные об издательствах;\n",
    "- rating - содержит 6456 строк, 4 столбца, содержит данные о пользовательских оценках;\n",
    "- reviews - содержит 2793 строки, 4 столбца, содержит данные о пользовательских обзорах.\n",
    "\n",
    "__В период после 1 января 2000 года вышло 819 книг__\n",
    "\n",
    "\n",
    "__Посчитали количество обзоров и среднюю оценку__\n",
    "\n",
    "\n",
    "__Издательство Penguin Books выпустило максимальное количество книг с количеством страниц больше 50__\n",
    "\n",
    "Penguin Books — британское издательство, основанное в 1935 году в Лондоне сэром Алленом Лейном и его братьями Ричардом и Джоном. Главной заслугой издательства считают демократизацию книжного рынка, превратившую книгу из предмета роскоши в удовольствие, доступное массам.\n",
    "\n",
    "__Joanne Kathleen Rowling в соавторстве с иллюстратором Mary GrandPré - автор с самой высокой средней оценкой книг из книг с больше 50-ю оценками__\n",
    "\n",
    "Joanne Kathleen Rowling - автор серии книг о Гарри Поттере. Mary GrandPré - американский иллюстратор и писатель, наиболее известный своими иллюстрациями изданий книг о Гарри Поттере в США, Бразилии и России.\n",
    "\n",
    "__В среднем 24 обзора пишут пользователи, которые поставили больше 50 оценок__\n"
   ]
  },
  {
   "cell_type": "code",
   "execution_count": null,
   "id": "eba1d015",
   "metadata": {},
   "outputs": [],
   "source": []
  }
 ],
 "metadata": {
  "ExecuteTimeLog": [
   {
    "duration": 521,
    "start_time": "2022-12-23T08:32:11.991Z"
   },
   {
    "duration": 2,
    "start_time": "2022-12-23T08:32:12.514Z"
   },
   {
    "duration": 6,
    "start_time": "2022-12-23T08:32:12.518Z"
   },
   {
    "duration": 7945,
    "start_time": "2022-12-23T08:32:12.526Z"
   },
   {
    "duration": 3,
    "start_time": "2022-12-23T08:32:20.473Z"
   },
   {
    "duration": 90,
    "start_time": "2022-12-23T08:32:20.477Z"
   },
   {
    "duration": 19,
    "start_time": "2022-12-23T08:32:20.569Z"
   },
   {
    "duration": 57,
    "start_time": "2022-12-23T08:32:20.590Z"
   },
   {
    "duration": 63,
    "start_time": "2022-12-23T08:32:20.648Z"
   },
   {
    "duration": 47,
    "start_time": "2022-12-23T08:32:20.714Z"
   },
   {
    "duration": 34,
    "start_time": "2022-12-23T08:32:20.762Z"
   },
   {
    "duration": 33,
    "start_time": "2022-12-23T08:32:20.797Z"
   },
   {
    "duration": 59,
    "start_time": "2022-12-23T08:32:20.832Z"
   },
   {
    "duration": 39,
    "start_time": "2022-12-23T08:32:20.893Z"
   },
   {
    "duration": 30,
    "start_time": "2022-12-23T08:32:20.934Z"
   },
   {
    "duration": 85,
    "start_time": "2022-12-23T08:32:20.966Z"
   },
   {
    "duration": 34,
    "start_time": "2022-12-23T08:32:21.053Z"
   },
   {
    "duration": 32,
    "start_time": "2022-12-23T08:32:21.089Z"
   },
   {
    "duration": 52,
    "start_time": "2022-12-23T08:32:21.124Z"
   },
   {
    "duration": 48,
    "start_time": "2022-12-23T08:32:21.178Z"
   },
   {
    "duration": 28,
    "start_time": "2022-12-23T08:32:21.228Z"
   },
   {
    "duration": 25,
    "start_time": "2022-12-23T08:32:21.258Z"
   },
   {
    "duration": 15,
    "start_time": "2022-12-23T08:32:21.284Z"
   },
   {
    "duration": 20,
    "start_time": "2022-12-23T08:32:21.300Z"
   },
   {
    "duration": 13,
    "start_time": "2022-12-23T08:32:21.322Z"
   },
   {
    "duration": 22,
    "start_time": "2022-12-23T08:34:34.058Z"
   },
   {
    "duration": 24,
    "start_time": "2022-12-23T08:34:45.161Z"
   },
   {
    "duration": 22,
    "start_time": "2022-12-23T08:34:51.033Z"
   },
   {
    "duration": 24,
    "start_time": "2022-12-23T08:34:55.354Z"
   },
   {
    "duration": 22,
    "start_time": "2022-12-23T08:35:04.881Z"
   },
   {
    "duration": 41,
    "start_time": "2022-12-23T08:35:10.602Z"
   },
   {
    "duration": 587,
    "start_time": "2022-12-23T08:39:54.592Z"
   },
   {
    "duration": 3,
    "start_time": "2022-12-23T08:39:55.181Z"
   },
   {
    "duration": 24,
    "start_time": "2022-12-23T08:39:55.186Z"
   },
   {
    "duration": 10280,
    "start_time": "2022-12-23T08:39:55.213Z"
   },
   {
    "duration": 3,
    "start_time": "2022-12-23T08:40:05.495Z"
   },
   {
    "duration": 52,
    "start_time": "2022-12-23T08:40:05.499Z"
   },
   {
    "duration": 21,
    "start_time": "2022-12-23T08:40:05.553Z"
   },
   {
    "duration": 11,
    "start_time": "2022-12-23T08:40:05.576Z"
   },
   {
    "duration": 7,
    "start_time": "2022-12-23T08:40:05.589Z"
   },
   {
    "duration": 20,
    "start_time": "2022-12-23T08:40:05.600Z"
   },
   {
    "duration": 33,
    "start_time": "2022-12-23T08:40:05.622Z"
   },
   {
    "duration": 7,
    "start_time": "2022-12-23T08:40:05.657Z"
   },
   {
    "duration": 23,
    "start_time": "2022-12-23T08:40:05.665Z"
   },
   {
    "duration": 24,
    "start_time": "2022-12-23T08:40:05.690Z"
   },
   {
    "duration": 9,
    "start_time": "2022-12-23T08:40:05.715Z"
   },
   {
    "duration": 67,
    "start_time": "2022-12-23T08:40:05.726Z"
   },
   {
    "duration": 13,
    "start_time": "2022-12-23T08:40:05.795Z"
   },
   {
    "duration": 23,
    "start_time": "2022-12-23T08:40:05.810Z"
   },
   {
    "duration": 44,
    "start_time": "2022-12-23T08:40:05.835Z"
   },
   {
    "duration": 15,
    "start_time": "2022-12-23T08:40:05.881Z"
   },
   {
    "duration": 31,
    "start_time": "2022-12-23T08:40:05.898Z"
   },
   {
    "duration": 36,
    "start_time": "2022-12-23T08:40:05.931Z"
   },
   {
    "duration": 13,
    "start_time": "2022-12-23T08:40:05.969Z"
   },
   {
    "duration": 29,
    "start_time": "2022-12-23T08:40:05.983Z"
   },
   {
    "duration": 24,
    "start_time": "2022-12-23T08:40:06.014Z"
   },
   {
    "duration": 485,
    "start_time": "2022-12-23T09:03:21.421Z"
   },
   {
    "duration": 2,
    "start_time": "2022-12-23T09:03:21.908Z"
   },
   {
    "duration": 6,
    "start_time": "2022-12-23T09:03:21.911Z"
   },
   {
    "duration": 5048,
    "start_time": "2022-12-23T09:03:21.918Z"
   },
   {
    "duration": 3,
    "start_time": "2022-12-23T09:03:26.968Z"
   },
   {
    "duration": 273,
    "start_time": "2022-12-23T09:03:26.972Z"
   },
   {
    "duration": 13,
    "start_time": "2022-12-23T09:03:27.247Z"
   },
   {
    "duration": 16,
    "start_time": "2022-12-23T09:03:27.261Z"
   },
   {
    "duration": 18,
    "start_time": "2022-12-23T09:03:27.278Z"
   },
   {
    "duration": 88,
    "start_time": "2022-12-23T09:03:27.298Z"
   },
   {
    "duration": 8,
    "start_time": "2022-12-23T09:03:27.388Z"
   },
   {
    "duration": 13,
    "start_time": "2022-12-23T09:03:27.398Z"
   },
   {
    "duration": 93,
    "start_time": "2022-12-23T09:03:27.412Z"
   },
   {
    "duration": 9,
    "start_time": "2022-12-23T09:03:27.507Z"
   },
   {
    "duration": 16,
    "start_time": "2022-12-23T09:03:27.517Z"
   },
   {
    "duration": 120,
    "start_time": "2022-12-23T09:03:27.535Z"
   },
   {
    "duration": 10,
    "start_time": "2022-12-23T09:03:27.657Z"
   },
   {
    "duration": 16,
    "start_time": "2022-12-23T09:03:27.668Z"
   },
   {
    "duration": 97,
    "start_time": "2022-12-23T09:03:27.685Z"
   },
   {
    "duration": 9,
    "start_time": "2022-12-23T09:03:27.784Z"
   },
   {
    "duration": 82,
    "start_time": "2022-12-23T09:03:27.794Z"
   },
   {
    "duration": 193,
    "start_time": "2022-12-23T09:03:27.877Z"
   },
   {
    "duration": 0,
    "start_time": "2022-12-23T09:03:28.071Z"
   },
   {
    "duration": 0,
    "start_time": "2022-12-23T09:03:28.073Z"
   },
   {
    "duration": 0,
    "start_time": "2022-12-23T09:03:28.074Z"
   },
   {
    "duration": 106,
    "start_time": "2022-12-23T09:04:35.940Z"
   },
   {
    "duration": 109,
    "start_time": "2022-12-23T09:05:13.074Z"
   },
   {
    "duration": 49,
    "start_time": "2022-12-23T09:05:55.741Z"
   },
   {
    "duration": 49,
    "start_time": "2022-12-23T09:07:35.539Z"
   },
   {
    "duration": 6,
    "start_time": "2022-12-23T09:12:46.929Z"
   },
   {
    "duration": 4,
    "start_time": "2022-12-23T09:12:51.225Z"
   },
   {
    "duration": 5,
    "start_time": "2022-12-23T09:13:28.917Z"
   },
   {
    "duration": 10,
    "start_time": "2022-12-23T09:14:02.380Z"
   },
   {
    "duration": 484,
    "start_time": "2022-12-23T09:14:14.110Z"
   },
   {
    "duration": 3,
    "start_time": "2022-12-23T09:14:14.596Z"
   },
   {
    "duration": 19,
    "start_time": "2022-12-23T09:14:14.600Z"
   },
   {
    "duration": 6544,
    "start_time": "2022-12-23T09:14:14.621Z"
   },
   {
    "duration": 3,
    "start_time": "2022-12-23T09:14:21.166Z"
   },
   {
    "duration": 286,
    "start_time": "2022-12-23T09:14:21.170Z"
   },
   {
    "duration": 13,
    "start_time": "2022-12-23T09:14:21.458Z"
   },
   {
    "duration": 11,
    "start_time": "2022-12-23T09:14:21.472Z"
   },
   {
    "duration": 5,
    "start_time": "2022-12-23T09:14:21.485Z"
   },
   {
    "duration": 81,
    "start_time": "2022-12-23T09:14:21.492Z"
   },
   {
    "duration": 10,
    "start_time": "2022-12-23T09:14:21.574Z"
   },
   {
    "duration": 6,
    "start_time": "2022-12-23T09:14:21.586Z"
   },
   {
    "duration": 80,
    "start_time": "2022-12-23T09:14:21.594Z"
   },
   {
    "duration": 9,
    "start_time": "2022-12-23T09:14:21.675Z"
   },
   {
    "duration": 8,
    "start_time": "2022-12-23T09:14:21.686Z"
   },
   {
    "duration": 103,
    "start_time": "2022-12-23T09:14:21.695Z"
   },
   {
    "duration": 8,
    "start_time": "2022-12-23T09:14:21.800Z"
   },
   {
    "duration": 6,
    "start_time": "2022-12-23T09:14:21.809Z"
   },
   {
    "duration": 96,
    "start_time": "2022-12-23T09:14:21.816Z"
   },
   {
    "duration": 10,
    "start_time": "2022-12-23T09:14:21.913Z"
   },
   {
    "duration": 77,
    "start_time": "2022-12-23T09:14:21.924Z"
   },
   {
    "duration": 86,
    "start_time": "2022-12-23T09:14:22.002Z"
   },
   {
    "duration": 77,
    "start_time": "2022-12-23T09:14:22.090Z"
   },
   {
    "duration": 77,
    "start_time": "2022-12-23T09:14:22.169Z"
   },
   {
    "duration": 78,
    "start_time": "2022-12-23T09:14:22.248Z"
   },
   {
    "duration": 19,
    "start_time": "2022-12-23T12:23:25.698Z"
   },
   {
    "duration": 25,
    "start_time": "2022-12-23T12:25:33.318Z"
   },
   {
    "duration": 25,
    "start_time": "2022-12-23T12:25:44.472Z"
   },
   {
    "duration": 182,
    "start_time": "2022-12-23T12:29:13.526Z"
   },
   {
    "duration": 99,
    "start_time": "2022-12-23T12:29:40.167Z"
   },
   {
    "duration": 112,
    "start_time": "2022-12-23T12:30:00.993Z"
   },
   {
    "duration": 107,
    "start_time": "2022-12-23T12:30:08.538Z"
   },
   {
    "duration": 33,
    "start_time": "2022-12-23T12:30:24.782Z"
   },
   {
    "duration": 33,
    "start_time": "2022-12-23T12:30:29.908Z"
   },
   {
    "duration": 25,
    "start_time": "2022-12-23T12:30:44.485Z"
   },
   {
    "duration": 23,
    "start_time": "2022-12-23T12:32:51.518Z"
   },
   {
    "duration": 587,
    "start_time": "2022-12-23T12:33:16.069Z"
   },
   {
    "duration": 5,
    "start_time": "2022-12-23T12:33:16.659Z"
   },
   {
    "duration": 56,
    "start_time": "2022-12-23T12:33:16.667Z"
   },
   {
    "duration": 8509,
    "start_time": "2022-12-23T12:33:16.726Z"
   },
   {
    "duration": 3,
    "start_time": "2022-12-23T12:33:25.237Z"
   },
   {
    "duration": 60,
    "start_time": "2022-12-23T12:33:25.242Z"
   },
   {
    "duration": 17,
    "start_time": "2022-12-23T12:33:25.305Z"
   },
   {
    "duration": 11,
    "start_time": "2022-12-23T12:33:25.324Z"
   },
   {
    "duration": 7,
    "start_time": "2022-12-23T12:33:25.337Z"
   },
   {
    "duration": 34,
    "start_time": "2022-12-23T12:33:25.346Z"
   },
   {
    "duration": 11,
    "start_time": "2022-12-23T12:33:25.382Z"
   },
   {
    "duration": 5,
    "start_time": "2022-12-23T12:33:25.395Z"
   },
   {
    "duration": 15,
    "start_time": "2022-12-23T12:33:25.401Z"
   },
   {
    "duration": 14,
    "start_time": "2022-12-23T12:33:25.420Z"
   },
   {
    "duration": 6,
    "start_time": "2022-12-23T12:33:25.436Z"
   },
   {
    "duration": 46,
    "start_time": "2022-12-23T12:33:25.444Z"
   },
   {
    "duration": 11,
    "start_time": "2022-12-23T12:33:25.492Z"
   },
   {
    "duration": 4,
    "start_time": "2022-12-23T12:33:25.505Z"
   },
   {
    "duration": 29,
    "start_time": "2022-12-23T12:33:25.511Z"
   },
   {
    "duration": 23,
    "start_time": "2022-12-23T12:33:25.542Z"
   },
   {
    "duration": 17,
    "start_time": "2022-12-23T12:33:25.567Z"
   },
   {
    "duration": 27,
    "start_time": "2022-12-23T12:33:25.586Z"
   },
   {
    "duration": 13,
    "start_time": "2022-12-23T12:33:25.615Z"
   },
   {
    "duration": 25,
    "start_time": "2022-12-23T12:33:25.630Z"
   },
   {
    "duration": 23,
    "start_time": "2022-12-23T12:33:25.656Z"
   }
  ],
  "kernelspec": {
   "display_name": "Python 3 (ipykernel)",
   "language": "python",
   "name": "python3"
  },
  "language_info": {
   "codemirror_mode": {
    "name": "ipython",
    "version": 3
   },
   "file_extension": ".py",
   "mimetype": "text/x-python",
   "name": "python",
   "nbconvert_exporter": "python",
   "pygments_lexer": "ipython3",
   "version": "3.9.12"
  },
  "toc": {
   "base_numbering": 1,
   "nav_menu": {},
   "number_sections": true,
   "sideBar": true,
   "skip_h1_title": true,
   "title_cell": "Table of Contents",
   "title_sidebar": "Contents",
   "toc_cell": false,
   "toc_position": {},
   "toc_section_display": true,
   "toc_window_display": false
  }
 },
 "nbformat": 4,
 "nbformat_minor": 5
}
